{
 "cells": [
  {
   "cell_type": "code",
   "execution_count": 1,
   "metadata": {},
   "outputs": [],
   "source": [
    "import pandas as pd\n",
    "import numpy as np\n",
    "import matplotlib.pyplot as plt\n",
    "import seaborn as sns\n",
    "%matplotlib inline\n",
    "from sklearn.linear_model import LinearRegression\n",
    "from sklearn import metrics\n",
    "from statsmodels.stats import weightstats as weightstats\n",
    "from sklearn.model_selection import train_test_split \n",
    "from Finalproject_Group4 import csv_import\n",
    "from Finalproject_Group4 import select_cols\n",
    "from Finalproject_Group4 import filter_data\n",
    "from Finalproject_Group4 import LinearRegressionM"
   ]
  },
  {
   "cell_type": "markdown",
   "metadata": {},
   "source": [
    "# 1.1 Data Extraction"
   ]
  },
  {
   "cell_type": "code",
   "execution_count": 2,
   "metadata": {},
   "outputs": [],
   "source": [
    "df1 = csv_import('https://data.ny.gov/api/views/sjc6-ftj4/rows.csv?accessType=DOWNLOAD&sorting=true',',', header = 0) ##loading csv"
   ]
  },
  {
   "cell_type": "markdown",
   "metadata": {},
   "source": [
    "This dataset is managed by the National Telecommunications and Information Administration in the US Department of Commerce. The information about the availability of high-speed Internet services known as Broadband, was collected from broadband provider companies regarding the technology type and speed of services offered. \n",
    "\n",
    "Fiber Internet Services came to the state of New York in the early 2000. It is a high speed internet services which is cost effective as one can get it for the price of cable and DSL internet services. It was of no surprise that fiber service is the next big thing and internet providers such as verizon and AT&T wanted to establish their monopoly in the fiber internet market by offering fiber internet to the whole state of New York. The data set that we will be analyzing is from the year 2010 and we will look through the 62 counties in the state of New York to find which counties are moving towards the fiber internet by examining the Number of households having access to fiber internet. We will also analyse how population, number of household units and Area of a municipality depend with the fiber internet connections in a municpality. We will look at Regional Economic Development Council Regions to analyze our data and later we will drill down to various counties in that Regional Economic Development Council Region. Using Statistical Methods, we will test if the average number of fiber internet providers are greater than the average number of DSL internet providers and cable internet providers. We will also test if the average number of housing units with access to fiber internet is greater than average number of housing units with access cable and DSL internet. \n",
    "\n",
    "Lastly, we will predict Number of housing units with access to fiber internet using different pedictor variables. "
   ]
  },
  {
   "cell_type": "code",
   "execution_count": 3,
   "metadata": {},
   "outputs": [
    {
     "data": {
      "text/html": [
       "<div>\n",
       "<style scoped>\n",
       "    .dataframe tbody tr th:only-of-type {\n",
       "        vertical-align: middle;\n",
       "    }\n",
       "\n",
       "    .dataframe tbody tr th {\n",
       "        vertical-align: top;\n",
       "    }\n",
       "\n",
       "    .dataframe thead th {\n",
       "        text-align: right;\n",
       "    }\n",
       "</style>\n",
       "<table border=\"1\" class=\"dataframe\">\n",
       "  <thead>\n",
       "    <tr style=\"text-align: right;\">\n",
       "      <th></th>\n",
       "      <th>GNIS ID</th>\n",
       "      <th>Municipality Name</th>\n",
       "      <th>Municipality Type</th>\n",
       "      <th>2010 Muni Population</th>\n",
       "      <th>2010 Muni Housing Units</th>\n",
       "      <th>Muni Area (sq mi)</th>\n",
       "      <th>County</th>\n",
       "      <th>REDC Region</th>\n",
       "      <th># Cable Providers</th>\n",
       "      <th># Hse Units Cable</th>\n",
       "      <th>...</th>\n",
       "      <th># Fiber Providers</th>\n",
       "      <th># Hse Units Fiber</th>\n",
       "      <th>% Hse Units Fiber</th>\n",
       "      <th># Wireline Providers</th>\n",
       "      <th># Hse Units Wireline</th>\n",
       "      <th>% Hse Units Wireline</th>\n",
       "      <th># Wireless Providers</th>\n",
       "      <th># Hse Units Wireless</th>\n",
       "      <th>% Hse Units Wireless</th>\n",
       "      <th># Satellite Providers</th>\n",
       "    </tr>\n",
       "  </thead>\n",
       "  <tbody>\n",
       "    <tr>\n",
       "      <td>0</td>\n",
       "      <td>978655</td>\n",
       "      <td>Adams</td>\n",
       "      <td>Town</td>\n",
       "      <td>5143</td>\n",
       "      <td>2126</td>\n",
       "      <td>42.4</td>\n",
       "      <td>Jefferson</td>\n",
       "      <td>North Country Region</td>\n",
       "      <td>1</td>\n",
       "      <td>1800</td>\n",
       "      <td>...</td>\n",
       "      <td>1</td>\n",
       "      <td>0</td>\n",
       "      <td>0</td>\n",
       "      <td>3</td>\n",
       "      <td>2000</td>\n",
       "      <td>94</td>\n",
       "      <td>4</td>\n",
       "      <td>2000</td>\n",
       "      <td>94</td>\n",
       "      <td>4</td>\n",
       "    </tr>\n",
       "    <tr>\n",
       "      <td>1</td>\n",
       "      <td>942159</td>\n",
       "      <td>Adams</td>\n",
       "      <td>Village</td>\n",
       "      <td>1775</td>\n",
       "      <td>793</td>\n",
       "      <td>1.5</td>\n",
       "      <td>Jefferson</td>\n",
       "      <td>North Country Region</td>\n",
       "      <td>1</td>\n",
       "      <td>760</td>\n",
       "      <td>...</td>\n",
       "      <td>1</td>\n",
       "      <td>0</td>\n",
       "      <td>0</td>\n",
       "      <td>3</td>\n",
       "      <td>760</td>\n",
       "      <td>96</td>\n",
       "      <td>3</td>\n",
       "      <td>760</td>\n",
       "      <td>96</td>\n",
       "      <td>4</td>\n",
       "    </tr>\n",
       "    <tr>\n",
       "      <td>2</td>\n",
       "      <td>978656</td>\n",
       "      <td>Addison</td>\n",
       "      <td>Town</td>\n",
       "      <td>2595</td>\n",
       "      <td>1159</td>\n",
       "      <td>25.7</td>\n",
       "      <td>Steuben</td>\n",
       "      <td>Southern Tier Region</td>\n",
       "      <td>1</td>\n",
       "      <td>950</td>\n",
       "      <td>...</td>\n",
       "      <td>1</td>\n",
       "      <td>0</td>\n",
       "      <td>0</td>\n",
       "      <td>3</td>\n",
       "      <td>1000</td>\n",
       "      <td>86</td>\n",
       "      <td>3</td>\n",
       "      <td>1100</td>\n",
       "      <td>95</td>\n",
       "      <td>4</td>\n",
       "    </tr>\n",
       "    <tr>\n",
       "      <td>3</td>\n",
       "      <td>942177</td>\n",
       "      <td>Addison</td>\n",
       "      <td>Village</td>\n",
       "      <td>1763</td>\n",
       "      <td>770</td>\n",
       "      <td>1.9</td>\n",
       "      <td>Steuben</td>\n",
       "      <td>Southern Tier Region</td>\n",
       "      <td>1</td>\n",
       "      <td>740</td>\n",
       "      <td>...</td>\n",
       "      <td>1</td>\n",
       "      <td>0</td>\n",
       "      <td>0</td>\n",
       "      <td>3</td>\n",
       "      <td>740</td>\n",
       "      <td>96</td>\n",
       "      <td>2</td>\n",
       "      <td>740</td>\n",
       "      <td>96</td>\n",
       "      <td>4</td>\n",
       "    </tr>\n",
       "    <tr>\n",
       "      <td>4</td>\n",
       "      <td>978657</td>\n",
       "      <td>Afton</td>\n",
       "      <td>Town</td>\n",
       "      <td>2851</td>\n",
       "      <td>1457</td>\n",
       "      <td>46.7</td>\n",
       "      <td>Chenango</td>\n",
       "      <td>Southern Tier Region</td>\n",
       "      <td>2</td>\n",
       "      <td>1100</td>\n",
       "      <td>...</td>\n",
       "      <td>0</td>\n",
       "      <td>0</td>\n",
       "      <td>0</td>\n",
       "      <td>4</td>\n",
       "      <td>1400</td>\n",
       "      <td>96</td>\n",
       "      <td>6</td>\n",
       "      <td>1400</td>\n",
       "      <td>96</td>\n",
       "      <td>4</td>\n",
       "    </tr>\n",
       "  </tbody>\n",
       "</table>\n",
       "<p>5 rows × 24 columns</p>\n",
       "</div>"
      ],
      "text/plain": [
       "   GNIS ID Municipality Name Municipality Type  2010 Muni Population  \\\n",
       "0   978655             Adams              Town                  5143   \n",
       "1   942159             Adams           Village                  1775   \n",
       "2   978656           Addison              Town                  2595   \n",
       "3   942177           Addison           Village                  1763   \n",
       "4   978657             Afton              Town                  2851   \n",
       "\n",
       "   2010 Muni Housing Units  Muni Area (sq mi)     County  \\\n",
       "0                     2126               42.4  Jefferson   \n",
       "1                      793                1.5  Jefferson   \n",
       "2                     1159               25.7    Steuben   \n",
       "3                      770                1.9    Steuben   \n",
       "4                     1457               46.7   Chenango   \n",
       "\n",
       "            REDC Region  # Cable Providers  # Hse Units Cable  ...  \\\n",
       "0  North Country Region                  1               1800  ...   \n",
       "1  North Country Region                  1                760  ...   \n",
       "2  Southern Tier Region                  1                950  ...   \n",
       "3  Southern Tier Region                  1                740  ...   \n",
       "4  Southern Tier Region                  2               1100  ...   \n",
       "\n",
       "   # Fiber Providers  # Hse Units Fiber  % Hse Units Fiber  \\\n",
       "0                  1                  0                  0   \n",
       "1                  1                  0                  0   \n",
       "2                  1                  0                  0   \n",
       "3                  1                  0                  0   \n",
       "4                  0                  0                  0   \n",
       "\n",
       "   # Wireline Providers  # Hse Units Wireline  % Hse Units Wireline  \\\n",
       "0                     3                  2000                    94   \n",
       "1                     3                   760                    96   \n",
       "2                     3                  1000                    86   \n",
       "3                     3                   740                    96   \n",
       "4                     4                  1400                    96   \n",
       "\n",
       "   # Wireless Providers  # Hse Units Wireless  % Hse Units Wireless  \\\n",
       "0                     4                  2000                    94   \n",
       "1                     3                   760                    96   \n",
       "2                     3                  1100                    95   \n",
       "3                     2                   740                    96   \n",
       "4                     6                  1400                    96   \n",
       "\n",
       "   # Satellite Providers  \n",
       "0                      4  \n",
       "1                      4  \n",
       "2                      4  \n",
       "3                      4  \n",
       "4                      4  \n",
       "\n",
       "[5 rows x 24 columns]"
      ]
     },
     "execution_count": 3,
     "metadata": {},
     "output_type": "execute_result"
    }
   ],
   "source": [
    "df1.head() ##looking at initial values"
   ]
  },
  {
   "cell_type": "code",
   "execution_count": 4,
   "metadata": {},
   "outputs": [
    {
     "data": {
      "text/plain": [
       "Index(['GNIS ID', 'Municipality Name', 'Municipality Type',\n",
       "       '2010 Muni Population', '2010 Muni Housing Units', 'Muni Area (sq mi)',\n",
       "       'County', 'REDC Region', '# Cable Providers', '# Hse Units Cable',\n",
       "       '% Hse Units Cable', '# of DSL Providers', '# Hse Units DSL',\n",
       "       '% Hse Units DSL', '# Fiber Providers', '# Hse Units Fiber',\n",
       "       '% Hse Units Fiber', '# Wireline Providers', '# Hse Units Wireline',\n",
       "       '% Hse Units Wireline', '# Wireless Providers', '# Hse Units Wireless',\n",
       "       '% Hse Units Wireless', '# Satellite Providers'],\n",
       "      dtype='object')"
      ]
     },
     "execution_count": 4,
     "metadata": {},
     "output_type": "execute_result"
    }
   ],
   "source": [
    "df1.columns ##looking at columns of dataframe"
   ]
  },
  {
   "cell_type": "markdown",
   "metadata": {},
   "source": [
    "Each record in our data represents a Geographic Names Information System Identification number or GNIS ID which is the unique key. \n",
    "\n",
    "We have a total of 24 variables in this dataset. They are:\n",
    "\n",
    "1) GNIS ID: Geographic Names Information System (GNIS) Identification Number\n",
    "\n",
    "2) Municipality Name: Name of New York Municipality\n",
    "\n",
    "3) Municipality Type: Type of Municipality (Town, City, Village, Tribal Community, County)\n",
    "\n",
    "4) 2010 Muni Population: Total Population in the Municipality according to the 2010 US Census\n",
    "\n",
    "5) 2010 Muni Housing Units:Total Housing Units (occupied & unoccupied households) in the Municipality according to the 2010 US Census\n",
    "\n",
    "6) Muni Area (sq mi): Area of the Municipality in square miles\n",
    "\n",
    "7) County: County of the Municipality\n",
    "\n",
    "8) REDC Region: Regional Economic Development Council Regions\n",
    "\n",
    "9) # Cable Providers: Number of Cable broadband providers by Municipality\n",
    "\n",
    "10) # Hse Units Cable: Number of 2010 Census Housing Units with access to cable broadband (≥768 kbps download, ≥200 kbps upload) in the Municipality. This is a rounded estimate with a ±3% bias factor applied.\n",
    "\n",
    "11) % Hse Units Cable: Percentage of 2010 Census Housing Units with access to cable broadband (≥768 kbps download, ≥200 kbps upload) in the Municipality. This is a rounded estimate with a ±3% bias factor applied.\n",
    "\n",
    "12) # of DSL Providers: Number of DSL broadband providers by Municipality\n",
    "\n",
    "13) # Hse Units DSL: Number of 2010 Census Housing Units with access to DSL broadband (≥768 kbps download, ≥200 kbps upload) in the Municipality. This is a rounded estimate with a ±3% bias factor applied.\n",
    "\n",
    "14) % Hse Units DSL: Percentage of 2010 Census Housing Units with access to DSL broadband (≥768 kbps download, ≥200 kbps upload) in the Municipality. This is a rounded estimate with a ±3% bias factor applied.\n",
    "\n",
    "15) # Fiber Providers: Number of Fiber broadband providers by Municipality (includes Business-Only providers)\n",
    "\n",
    "16) # Hse Units Fiber: Number of 2010 Census Housing Units with access to fiber broadband (≥768 kbps download, ≥200 kbps upload) in the Municipality. This is a rounded estimate with a ±3% bias factor applied.\n",
    "\n",
    "17) % Hse Units Fiber: Percentage of 2010 Census Housing Units with access to fiber broadband (≥768 kbps download, ≥200 kbps upload) in the Municipality. This is a rounded estimate with a ±3% bias factor applied.\n",
    "\n",
    "18) # Wireline Providers: Number of wireline (DSL, Cable, or Fiber) broadband providers by Municipality\n",
    "\n",
    "19) # Hse Units Wireline: Number of 2010 Census Housing Units with access to wireline (DSL, cable, or fiber) broadband (≥768 kbps download, ≥200 kbps upload) in the Municipality. This is a rounded estimate with a ±3% bias factor applied.\n",
    "\n",
    "20) % Hse Units Wireline: Percentage of 2010 Census Housing Units with access to wireline (DSL, cable, or fiber) broadband (≥768 kbps download, ≥200 kbps upload) in the Municipality. This is a rounded estimate with a ±3% bias factor applied.\n",
    "\n",
    "21) # Wireless Providers: Number of Wireless (Fixed or Mobile) broadband providers by Municipality\n",
    "\n",
    "22) # Hse Units Wireless: Number of 2010 Census Housing Units with access to wireless (fixed or mobile) broadband (≥768 kbps download, ≥200 kbps upload) in the Municipality. This is a rounded estimate with a ±3% bias factor applied.\n",
    "\n",
    "23) % Hse Units Wireless: Number of 2010 Census Housing Units with access to wireless (fixed or mobile) broadband (≥768 kbps download, ≥200 kbps upload) in the Municipality. This is a rounded estimate with a ±3% bias factor applied.\n",
    "\n",
    "24) # Satellite Providers:Number of satellite broadband providers\n"
   ]
  },
  {
   "cell_type": "markdown",
   "metadata": {},
   "source": [
    "# 1.2 Data Cleaning"
   ]
  },
  {
   "cell_type": "markdown",
   "metadata": {},
   "source": [
    "Talking a little bit about data, we will first start by inspecting missing data in our data frame. "
   ]
  },
  {
   "cell_type": "code",
   "execution_count": 5,
   "metadata": {},
   "outputs": [
    {
     "data": {
      "text/plain": [
       "GNIS ID                    0\n",
       "Municipality Name          0\n",
       "Municipality Type          0\n",
       "2010 Muni Population       0\n",
       "2010 Muni Housing Units    0\n",
       "Muni Area (sq mi)          0\n",
       "County                     1\n",
       "REDC Region                1\n",
       "# Cable Providers          0\n",
       "# Hse Units Cable          0\n",
       "% Hse Units Cable          0\n",
       "# of DSL Providers         0\n",
       "# Hse Units DSL            0\n",
       "% Hse Units DSL            0\n",
       "# Fiber Providers          0\n",
       "# Hse Units Fiber          0\n",
       "% Hse Units Fiber          0\n",
       "# Wireline Providers       0\n",
       "# Hse Units Wireline       0\n",
       "% Hse Units Wireline       0\n",
       "# Wireless Providers       0\n",
       "# Hse Units Wireless       0\n",
       "% Hse Units Wireless       0\n",
       "# Satellite Providers      0\n",
       "dtype: int64"
      ]
     },
     "execution_count": 5,
     "metadata": {},
     "output_type": "execute_result"
    }
   ],
   "source": [
    "df1.isna().sum()  ##checking for missing values"
   ]
  },
  {
   "cell_type": "markdown",
   "metadata": {},
   "source": [
    "As we can see in the above data frame, there is one 1 missing record in county, and REDC Region. Let's further inspect that record."
   ]
  },
  {
   "cell_type": "code",
   "execution_count": 6,
   "metadata": {},
   "outputs": [
    {
     "data": {
      "text/html": [
       "<div>\n",
       "<style scoped>\n",
       "    .dataframe tbody tr th:only-of-type {\n",
       "        vertical-align: middle;\n",
       "    }\n",
       "\n",
       "    .dataframe tbody tr th {\n",
       "        vertical-align: top;\n",
       "    }\n",
       "\n",
       "    .dataframe thead th {\n",
       "        text-align: right;\n",
       "    }\n",
       "</style>\n",
       "<table border=\"1\" class=\"dataframe\">\n",
       "  <thead>\n",
       "    <tr style=\"text-align: right;\">\n",
       "      <th></th>\n",
       "      <th>GNIS ID</th>\n",
       "      <th>Municipality Name</th>\n",
       "      <th>Municipality Type</th>\n",
       "      <th>2010 Muni Population</th>\n",
       "      <th>2010 Muni Housing Units</th>\n",
       "      <th>Muni Area (sq mi)</th>\n",
       "      <th>County</th>\n",
       "      <th>REDC Region</th>\n",
       "      <th># Cable Providers</th>\n",
       "      <th># Hse Units Cable</th>\n",
       "      <th>...</th>\n",
       "      <th># Fiber Providers</th>\n",
       "      <th># Hse Units Fiber</th>\n",
       "      <th>% Hse Units Fiber</th>\n",
       "      <th># Wireline Providers</th>\n",
       "      <th># Hse Units Wireline</th>\n",
       "      <th>% Hse Units Wireline</th>\n",
       "      <th># Wireless Providers</th>\n",
       "      <th># Hse Units Wireless</th>\n",
       "      <th>% Hse Units Wireless</th>\n",
       "      <th># Satellite Providers</th>\n",
       "    </tr>\n",
       "  </thead>\n",
       "  <tbody>\n",
       "    <tr>\n",
       "      <td>1006</td>\n",
       "      <td>9999999</td>\n",
       "      <td>New York State</td>\n",
       "      <td>Statewide</td>\n",
       "      <td>19378102</td>\n",
       "      <td>8108103</td>\n",
       "      <td>54571.0</td>\n",
       "      <td>NaN</td>\n",
       "      <td>NaN</td>\n",
       "      <td>15</td>\n",
       "      <td>7610000</td>\n",
       "      <td>...</td>\n",
       "      <td>31</td>\n",
       "      <td>3780000</td>\n",
       "      <td>47</td>\n",
       "      <td>69</td>\n",
       "      <td>7780000</td>\n",
       "      <td>96</td>\n",
       "      <td>25</td>\n",
       "      <td>7840000</td>\n",
       "      <td>97</td>\n",
       "      <td>4</td>\n",
       "    </tr>\n",
       "  </tbody>\n",
       "</table>\n",
       "<p>1 rows × 24 columns</p>\n",
       "</div>"
      ],
      "text/plain": [
       "      GNIS ID Municipality Name Municipality Type  2010 Muni Population  \\\n",
       "1006  9999999    New York State         Statewide              19378102   \n",
       "\n",
       "      2010 Muni Housing Units  Muni Area (sq mi) County REDC Region  \\\n",
       "1006                  8108103            54571.0    NaN         NaN   \n",
       "\n",
       "      # Cable Providers  # Hse Units Cable  ...  # Fiber Providers  \\\n",
       "1006                 15            7610000  ...                 31   \n",
       "\n",
       "      # Hse Units Fiber  % Hse Units Fiber  # Wireline Providers  \\\n",
       "1006            3780000                 47                    69   \n",
       "\n",
       "      # Hse Units Wireline  % Hse Units Wireline  # Wireless Providers  \\\n",
       "1006               7780000                    96                    25   \n",
       "\n",
       "      # Hse Units Wireless  % Hse Units Wireless  # Satellite Providers  \n",
       "1006               7840000                    97                      4  \n",
       "\n",
       "[1 rows x 24 columns]"
      ]
     },
     "execution_count": 6,
     "metadata": {},
     "output_type": "execute_result"
    }
   ],
   "source": [
    "df1[df1.County.isna()] ##checking na value"
   ]
  },
  {
   "cell_type": "markdown",
   "metadata": {},
   "source": [
    "From the above value, we can see that the municipality type of this record is Statewide and this record is a summarized value for all the dataset. Hence, it does not make sense to remove this record as it is one type of data and of course, if it is a statewide data, it would not have a county and a REDC Region assigned to it. Hence, NA values make sense here."
   ]
  },
  {
   "cell_type": "markdown",
   "metadata": {},
   "source": [
    "Next, we will use a subset of those features/variables that we require in our analysis."
   ]
  },
  {
   "cell_type": "code",
   "execution_count": 7,
   "metadata": {},
   "outputs": [
    {
     "data": {
      "text/html": [
       "<div>\n",
       "<style scoped>\n",
       "    .dataframe tbody tr th:only-of-type {\n",
       "        vertical-align: middle;\n",
       "    }\n",
       "\n",
       "    .dataframe tbody tr th {\n",
       "        vertical-align: top;\n",
       "    }\n",
       "\n",
       "    .dataframe thead th {\n",
       "        text-align: right;\n",
       "    }\n",
       "</style>\n",
       "<table border=\"1\" class=\"dataframe\">\n",
       "  <thead>\n",
       "    <tr style=\"text-align: right;\">\n",
       "      <th></th>\n",
       "      <th>Municipality Name</th>\n",
       "      <th>Municipality Type</th>\n",
       "      <th>2010 Muni Population</th>\n",
       "      <th>2010 Muni Housing Units</th>\n",
       "      <th>Muni Area (sq mi)</th>\n",
       "      <th>County</th>\n",
       "      <th>REDC Region</th>\n",
       "      <th># Cable Providers</th>\n",
       "      <th># Hse Units Cable</th>\n",
       "      <th># of DSL Providers</th>\n",
       "      <th># Hse Units DSL</th>\n",
       "      <th># Fiber Providers</th>\n",
       "      <th># Hse Units Fiber</th>\n",
       "    </tr>\n",
       "  </thead>\n",
       "  <tbody>\n",
       "    <tr>\n",
       "      <td>0</td>\n",
       "      <td>Adams</td>\n",
       "      <td>Town</td>\n",
       "      <td>5143</td>\n",
       "      <td>2126</td>\n",
       "      <td>42.4</td>\n",
       "      <td>Jefferson</td>\n",
       "      <td>North Country Region</td>\n",
       "      <td>1</td>\n",
       "      <td>1800</td>\n",
       "      <td>1</td>\n",
       "      <td>2000</td>\n",
       "      <td>1</td>\n",
       "      <td>0</td>\n",
       "    </tr>\n",
       "    <tr>\n",
       "      <td>1</td>\n",
       "      <td>Adams</td>\n",
       "      <td>Village</td>\n",
       "      <td>1775</td>\n",
       "      <td>793</td>\n",
       "      <td>1.5</td>\n",
       "      <td>Jefferson</td>\n",
       "      <td>North Country Region</td>\n",
       "      <td>1</td>\n",
       "      <td>760</td>\n",
       "      <td>1</td>\n",
       "      <td>760</td>\n",
       "      <td>1</td>\n",
       "      <td>0</td>\n",
       "    </tr>\n",
       "    <tr>\n",
       "      <td>2</td>\n",
       "      <td>Addison</td>\n",
       "      <td>Town</td>\n",
       "      <td>2595</td>\n",
       "      <td>1159</td>\n",
       "      <td>25.7</td>\n",
       "      <td>Steuben</td>\n",
       "      <td>Southern Tier Region</td>\n",
       "      <td>1</td>\n",
       "      <td>950</td>\n",
       "      <td>1</td>\n",
       "      <td>1000</td>\n",
       "      <td>1</td>\n",
       "      <td>0</td>\n",
       "    </tr>\n",
       "    <tr>\n",
       "      <td>3</td>\n",
       "      <td>Addison</td>\n",
       "      <td>Village</td>\n",
       "      <td>1763</td>\n",
       "      <td>770</td>\n",
       "      <td>1.9</td>\n",
       "      <td>Steuben</td>\n",
       "      <td>Southern Tier Region</td>\n",
       "      <td>1</td>\n",
       "      <td>740</td>\n",
       "      <td>1</td>\n",
       "      <td>740</td>\n",
       "      <td>1</td>\n",
       "      <td>0</td>\n",
       "    </tr>\n",
       "    <tr>\n",
       "      <td>4</td>\n",
       "      <td>Afton</td>\n",
       "      <td>Town</td>\n",
       "      <td>2851</td>\n",
       "      <td>1457</td>\n",
       "      <td>46.7</td>\n",
       "      <td>Chenango</td>\n",
       "      <td>Southern Tier Region</td>\n",
       "      <td>2</td>\n",
       "      <td>1100</td>\n",
       "      <td>2</td>\n",
       "      <td>1400</td>\n",
       "      <td>0</td>\n",
       "      <td>0</td>\n",
       "    </tr>\n",
       "  </tbody>\n",
       "</table>\n",
       "</div>"
      ],
      "text/plain": [
       "  Municipality Name Municipality Type  2010 Muni Population  \\\n",
       "0             Adams              Town                  5143   \n",
       "1             Adams           Village                  1775   \n",
       "2           Addison              Town                  2595   \n",
       "3           Addison           Village                  1763   \n",
       "4             Afton              Town                  2851   \n",
       "\n",
       "   2010 Muni Housing Units  Muni Area (sq mi)     County  \\\n",
       "0                     2126               42.4  Jefferson   \n",
       "1                      793                1.5  Jefferson   \n",
       "2                     1159               25.7    Steuben   \n",
       "3                      770                1.9    Steuben   \n",
       "4                     1457               46.7   Chenango   \n",
       "\n",
       "            REDC Region  # Cable Providers  # Hse Units Cable  \\\n",
       "0  North Country Region                  1               1800   \n",
       "1  North Country Region                  1                760   \n",
       "2  Southern Tier Region                  1                950   \n",
       "3  Southern Tier Region                  1                740   \n",
       "4  Southern Tier Region                  2               1100   \n",
       "\n",
       "   # of DSL Providers  # Hse Units DSL  # Fiber Providers  # Hse Units Fiber  \n",
       "0                   1             2000                  1                  0  \n",
       "1                   1              760                  1                  0  \n",
       "2                   1             1000                  1                  0  \n",
       "3                   1              740                  1                  0  \n",
       "4                   2             1400                  0                  0  "
      ]
     },
     "execution_count": 7,
     "metadata": {},
     "output_type": "execute_result"
    }
   ],
   "source": [
    "columns = ['Municipality Name','Municipality Type','2010 Muni Population','2010 Muni Housing Units','Muni Area (sq mi)','County','REDC Region','# Cable Providers','# Hse Units Cable','# of DSL Providers','# Hse Units DSL','# Fiber Providers','# Hse Units Fiber']           \n",
    "df1 = select_cols(df1,columns) ##using relevant columns\n",
    "df1.head()"
   ]
  },
  {
   "cell_type": "markdown",
   "metadata": {},
   "source": [
    "Next, we will filter out only that data that we require for our analysis. For example, since our analysis is restricted to the 62 counties of the state of New york, we will create a new data frame filtering only our counties. The reason to select only the counties in this project is because every citizen in New York State, including New York City, lives within a county and thereby by selecting a county, we can get the idea of the whole state of new york. Also, all the 62 counties are also alloted to 10 Regional Economic Development Council Regions."
   ]
  },
  {
   "cell_type": "code",
   "execution_count": 8,
   "metadata": {},
   "outputs": [
    {
     "data": {
      "text/html": [
       "<div>\n",
       "<style scoped>\n",
       "    .dataframe tbody tr th:only-of-type {\n",
       "        vertical-align: middle;\n",
       "    }\n",
       "\n",
       "    .dataframe tbody tr th {\n",
       "        vertical-align: top;\n",
       "    }\n",
       "\n",
       "    .dataframe thead th {\n",
       "        text-align: right;\n",
       "    }\n",
       "</style>\n",
       "<table border=\"1\" class=\"dataframe\">\n",
       "  <thead>\n",
       "    <tr style=\"text-align: right;\">\n",
       "      <th></th>\n",
       "      <th>Municipality Name</th>\n",
       "      <th>Municipality Type</th>\n",
       "      <th>2010 Muni Population</th>\n",
       "      <th>2010 Muni Housing Units</th>\n",
       "      <th>Muni Area (sq mi)</th>\n",
       "      <th>County</th>\n",
       "      <th>REDC Region</th>\n",
       "      <th># Cable Providers</th>\n",
       "      <th># Hse Units Cable</th>\n",
       "      <th># of DSL Providers</th>\n",
       "      <th># Hse Units DSL</th>\n",
       "      <th># Fiber Providers</th>\n",
       "      <th># Hse Units Fiber</th>\n",
       "    </tr>\n",
       "  </thead>\n",
       "  <tbody>\n",
       "    <tr>\n",
       "      <td>0</td>\n",
       "      <td>Albany</td>\n",
       "      <td>County</td>\n",
       "      <td>304204</td>\n",
       "      <td>137739</td>\n",
       "      <td>532.9</td>\n",
       "      <td>Albany</td>\n",
       "      <td>Capital Region</td>\n",
       "      <td>2</td>\n",
       "      <td>131000</td>\n",
       "      <td>3</td>\n",
       "      <td>115000</td>\n",
       "      <td>9</td>\n",
       "      <td>47300</td>\n",
       "    </tr>\n",
       "    <tr>\n",
       "      <td>1</td>\n",
       "      <td>Allegany</td>\n",
       "      <td>County</td>\n",
       "      <td>48946</td>\n",
       "      <td>26140</td>\n",
       "      <td>1035.2</td>\n",
       "      <td>Allegany</td>\n",
       "      <td>Western NY Region</td>\n",
       "      <td>1</td>\n",
       "      <td>15500</td>\n",
       "      <td>3</td>\n",
       "      <td>15900</td>\n",
       "      <td>2</td>\n",
       "      <td>0</td>\n",
       "    </tr>\n",
       "    <tr>\n",
       "      <td>2</td>\n",
       "      <td>Bronx</td>\n",
       "      <td>County</td>\n",
       "      <td>1385108</td>\n",
       "      <td>511896</td>\n",
       "      <td>57.5</td>\n",
       "      <td>Bronx</td>\n",
       "      <td>New York City</td>\n",
       "      <td>3</td>\n",
       "      <td>496000</td>\n",
       "      <td>2</td>\n",
       "      <td>496000</td>\n",
       "      <td>4</td>\n",
       "      <td>322000</td>\n",
       "    </tr>\n",
       "    <tr>\n",
       "      <td>3</td>\n",
       "      <td>Broome</td>\n",
       "      <td>County</td>\n",
       "      <td>200600</td>\n",
       "      <td>90563</td>\n",
       "      <td>715.2</td>\n",
       "      <td>Broome</td>\n",
       "      <td>Southern Tier Region</td>\n",
       "      <td>3</td>\n",
       "      <td>85100</td>\n",
       "      <td>3</td>\n",
       "      <td>85100</td>\n",
       "      <td>4</td>\n",
       "      <td>0</td>\n",
       "    </tr>\n",
       "    <tr>\n",
       "      <td>4</td>\n",
       "      <td>Cattaraugus</td>\n",
       "      <td>County</td>\n",
       "      <td>80317</td>\n",
       "      <td>41111</td>\n",
       "      <td>1324.2</td>\n",
       "      <td>Cattaraugus</td>\n",
       "      <td>Western NY Region</td>\n",
       "      <td>2</td>\n",
       "      <td>26300</td>\n",
       "      <td>3</td>\n",
       "      <td>29100</td>\n",
       "      <td>3</td>\n",
       "      <td>0</td>\n",
       "    </tr>\n",
       "  </tbody>\n",
       "</table>\n",
       "</div>"
      ],
      "text/plain": [
       "  Municipality Name Municipality Type  2010 Muni Population  \\\n",
       "0            Albany            County                304204   \n",
       "1          Allegany            County                 48946   \n",
       "2             Bronx            County               1385108   \n",
       "3            Broome            County                200600   \n",
       "4       Cattaraugus            County                 80317   \n",
       "\n",
       "   2010 Muni Housing Units  Muni Area (sq mi)       County  \\\n",
       "0                   137739              532.9       Albany   \n",
       "1                    26140             1035.2     Allegany   \n",
       "2                   511896               57.5        Bronx   \n",
       "3                    90563              715.2       Broome   \n",
       "4                    41111             1324.2  Cattaraugus   \n",
       "\n",
       "            REDC Region  # Cable Providers  # Hse Units Cable  \\\n",
       "0        Capital Region                  2             131000   \n",
       "1     Western NY Region                  1              15500   \n",
       "2         New York City                  3             496000   \n",
       "3  Southern Tier Region                  3              85100   \n",
       "4     Western NY Region                  2              26300   \n",
       "\n",
       "   # of DSL Providers  # Hse Units DSL  # Fiber Providers  # Hse Units Fiber  \n",
       "0                   3           115000                  9              47300  \n",
       "1                   3            15900                  2                  0  \n",
       "2                   2           496000                  4             322000  \n",
       "3                   3            85100                  4                  0  \n",
       "4                   3            29100                  3                  0  "
      ]
     },
     "execution_count": 8,
     "metadata": {},
     "output_type": "execute_result"
    }
   ],
   "source": [
    "data_county = filter_data(df1,'Municipality Type','County',True) ##getting only county's data as filter\n",
    "data_county.head()"
   ]
  },
  {
   "cell_type": "markdown",
   "metadata": {},
   "source": [
    "# 1.3 & 1.4 Analysis(Data Visualization & Descriptive Statistics)"
   ]
  },
  {
   "cell_type": "markdown",
   "metadata": {},
   "source": [
    "The main aim of this project is to highlight which counties are moving towards high speed Fiber internet from cable and DSL internet. First, we start by creating a plot of top 5 counties having the maximum number of housing units that have access to fiber internet."
   ]
  },
  {
   "cell_type": "code",
   "execution_count": 9,
   "metadata": {},
   "outputs": [],
   "source": [
    "county_top = data_county.sort_values('# Hse Units Fiber',ascending = False).head(5).reset_index(drop = True) ##getting top 5\n"
   ]
  },
  {
   "cell_type": "code",
   "execution_count": 10,
   "metadata": {},
   "outputs": [
    {
     "data": {
      "image/png": "[encoded data removed]",
      "text/plain": [
       "<Figure size 864x576 with 1 Axes>"
      ]
     },
     "metadata": {
      "needs_background": "light"
     },
     "output_type": "display_data"
    }
   ],
   "source": [
    "plt.figure(figsize=(12,8))\n",
    "ax = sns.barplot(x=\"County\", y=\"# Hse Units Fiber\",hue  = 'REDC Region',data=county_top, palette=\"Blues_d\", dodge = False) ##plotting for top 5\n",
    "plt.xlabel('Name of County', fontsize=16)\n",
    "plt.ylabel('Number of units with Fiber Internet', fontsize=16)\n",
    "plt.title('Top 5 counties having maximum units with access to Fiber Internet', fontsize=16)\n",
    "plt.show()"
   ]
  },
  {
   "cell_type": "markdown",
   "metadata": {},
   "source": [
    "From the above plot, we can infer that the top 3 of the top 5 counties are from the 3 boroughs of New York City. These are Queens, Brooklyn and Manhattan. Next two are from Long Island Region and MId-Hudson Region. \n",
    "\n",
    "Let us also look at the REDC Regions separately and find the top 5 REDC Regions by calculating the average Number of Units having access to Fiber internet in a REDC Region. "
   ]
  },
  {
   "cell_type": "code",
   "execution_count": 11,
   "metadata": {},
   "outputs": [],
   "source": [
    "data_county_redc = data_county.groupby(['REDC Region']).agg({'# Hse Units Fiber': 'mean'}).reset_index()  ##group by redc region and mean because number of records are not same\n",
    "data_county_redc_plot = data_county_redc.sort_values('# Hse Units Fiber',ascending = False).head(5)"
   ]
  },
  {
   "cell_type": "code",
   "execution_count": 12,
   "metadata": {},
   "outputs": [
    {
     "data": {
      "image/png": "[encoded data removed]",
      "text/plain": [
       "<Figure size 864x576 with 1 Axes>"
      ]
     },
     "metadata": {
      "needs_background": "light"
     },
     "output_type": "display_data"
    }
   ],
   "source": [
    "plt.figure(figsize=(12,8)) ##top 5 based on REDC Regions\n",
    "plt.title('Top 5 REDC Regions having maximum units(average) with access to Fiber Internet', fontsize=16)\n",
    "ax = sns.barplot(x=\"REDC Region\", y=\"# Hse Units Fiber\",data=data_county_redc_plot, palette=\"Blues_d\", dodge = False)\n",
    "plt.xlabel('Name of REDC Region', fontsize=16)\n",
    "plt.ylabel('Average Number of units with Fiber Internet', fontsize=16)\n",
    "plt.show()"
   ]
  },
  {
   "cell_type": "markdown",
   "metadata": {},
   "source": [
    "So from the bar plot above, we can confirm that if we look into the REDC Regions, New York City has the maximum number of units with access to high speed fiber internet followed by Long Island Region, Mid-Houdson region, Western NY Region and Central NY Region. \n",
    "\n",
    "Next, we will find the counties the do not having a single unit with fiber internet."
   ]
  },
  {
   "cell_type": "code",
   "execution_count": 13,
   "metadata": {},
   "outputs": [
    {
     "data": {
      "text/plain": [
       "32"
      ]
     },
     "execution_count": 13,
     "metadata": {},
     "output_type": "execute_result"
    }
   ],
   "source": [
    "county_no_fiber = filter_data(data_county, '# Hse Units Fiber',0, True)##finding number of records for no fiber internet\n",
    "len(county_no_fiber)"
   ]
  },
  {
   "cell_type": "markdown",
   "metadata": {},
   "source": [
    "From the above output, we get a surprising result. Out of the 62 counties we have, 32 of them do not have a single unit with access to high speed fiber internet. What could be the reason for this? Do they not have a fiber service provider? Let's try to answer this question."
   ]
  },
  {
   "cell_type": "code",
   "execution_count": 14,
   "metadata": {},
   "outputs": [
    {
     "data": {
      "image/png": "[encoded data removed]",
      "text/plain": [
       "<Figure size 576x576 with 1 Axes>"
      ]
     },
     "metadata": {
      "needs_background": "light"
     },
     "output_type": "display_data"
    }
   ],
   "source": [
    "plt.figure(figsize=(8,8)) ##Density plot to show number of providers\n",
    "sns.distplot(county_no_fiber['# Fiber Providers'], hist=True, kde=True,color = 'darkblue', \n",
    "             hist_kws={'edgecolor':'black'},\n",
    "             kde_kws={'linewidth': 4, 'shade': True})\n",
    "plt.xlabel('Name of Fiber Providers', fontsize=16)\n",
    "plt.ylabel('Denisty', fontsize=16)\n",
    "plt.title(\"Density Plot to show Number of Fiber Providers in county's having no fiber internet\",fontsize=16)\n",
    "plt.show()"
   ]
  },
  {
   "cell_type": "markdown",
   "metadata": {},
   "source": [
    "From the above Density Plot for the number of Fiber Providers in those 32 counties that did not have any units with access to fiber internet, we can infer that there is not a single county that does not have a fiber internet provider. Every county has atleast 2 fiber internet providers. So, what could be the reason for no fiber connections? Maybe the people are happy with their cable or DSL services and are not looking for faster internet. For these 32 counties, let's see what services are mostly preferred out of DSL and Cable.  "
   ]
  },
  {
   "cell_type": "code",
   "execution_count": 15,
   "metadata": {},
   "outputs": [
    {
     "data": {
      "text/plain": [
       "Finger Lakes Region     9\n",
       "Mohawk Valley Region    6\n",
       "Southern Tier Region    5\n",
       "Western NY Region       4\n",
       "Central NY Region       3\n",
       "North Country Region    2\n",
       "Mid-Hudson Region       2\n",
       "Capital Region          1\n",
       "Name: REDC Region, dtype: int64"
      ]
     },
     "execution_count": 15,
     "metadata": {},
     "output_type": "execute_result"
    }
   ],
   "source": [
    "county_no_fiber['REDC Region'].value_counts() ##getting value counts of no fiber records"
   ]
  },
  {
   "cell_type": "markdown",
   "metadata": {},
   "source": [
    "From the above output, we can infer that Finger Lakes Region has most records of 0 households units with access to fiber internet followed by Mohawk Valley Region, Souther Tier Region, Western NY Region, Central NY Region, North Coutnry Region, Mid- Hudston Region and Capital Region. We can also infer that Mid Hudson Region, central NY region, Western NY Region have 2,3,4 counties with 0 households units,respectively with access to fiber internet. These 3 REDC Regions were also part of the maximum average units with access to fiber internet.This means that in Mid Hudson Region, Central NY Region and Western NY Region, households have mixed connections from DSL, Cable and fiber."
   ]
  },
  {
   "cell_type": "code",
   "execution_count": 16,
   "metadata": {},
   "outputs": [
    {
     "data": {
      "text/html": [
       "<div>\n",
       "<style scoped>\n",
       "    .dataframe tbody tr th:only-of-type {\n",
       "        vertical-align: middle;\n",
       "    }\n",
       "\n",
       "    .dataframe tbody tr th {\n",
       "        vertical-align: top;\n",
       "    }\n",
       "\n",
       "    .dataframe thead th {\n",
       "        text-align: right;\n",
       "    }\n",
       "</style>\n",
       "<table border=\"1\" class=\"dataframe\">\n",
       "  <thead>\n",
       "    <tr style=\"text-align: right;\">\n",
       "      <th></th>\n",
       "      <th>REDC Region</th>\n",
       "      <th># Hse Units Cable</th>\n",
       "      <th># Hse Units DSL</th>\n",
       "    </tr>\n",
       "  </thead>\n",
       "  <tbody>\n",
       "    <tr>\n",
       "      <td>0</td>\n",
       "      <td>Capital Region</td>\n",
       "      <td>63100.000000</td>\n",
       "      <td>63200.000000</td>\n",
       "    </tr>\n",
       "    <tr>\n",
       "      <td>1</td>\n",
       "      <td>Central NY Region</td>\n",
       "      <td>30566.666667</td>\n",
       "      <td>30766.666667</td>\n",
       "    </tr>\n",
       "    <tr>\n",
       "      <td>2</td>\n",
       "      <td>Finger Lakes Region</td>\n",
       "      <td>54744.444444</td>\n",
       "      <td>53255.555556</td>\n",
       "    </tr>\n",
       "    <tr>\n",
       "      <td>3</td>\n",
       "      <td>Mid-Hudson Region</td>\n",
       "      <td>62550.000000</td>\n",
       "      <td>53250.000000</td>\n",
       "    </tr>\n",
       "    <tr>\n",
       "      <td>4</td>\n",
       "      <td>Mohawk Valley Region</td>\n",
       "      <td>33100.000000</td>\n",
       "      <td>33533.333333</td>\n",
       "    </tr>\n",
       "    <tr>\n",
       "      <td>5</td>\n",
       "      <td>North Country Region</td>\n",
       "      <td>4855.000000</td>\n",
       "      <td>8250.000000</td>\n",
       "    </tr>\n",
       "    <tr>\n",
       "      <td>6</td>\n",
       "      <td>Southern Tier Region</td>\n",
       "      <td>39060.000000</td>\n",
       "      <td>39160.000000</td>\n",
       "    </tr>\n",
       "    <tr>\n",
       "      <td>7</td>\n",
       "      <td>Western NY Region</td>\n",
       "      <td>48675.000000</td>\n",
       "      <td>48500.000000</td>\n",
       "    </tr>\n",
       "  </tbody>\n",
       "</table>\n",
       "</div>"
      ],
      "text/plain": [
       "            REDC Region  # Hse Units Cable  # Hse Units DSL\n",
       "0        Capital Region       63100.000000     63200.000000\n",
       "1     Central NY Region       30566.666667     30766.666667\n",
       "2   Finger Lakes Region       54744.444444     53255.555556\n",
       "3     Mid-Hudson Region       62550.000000     53250.000000\n",
       "4  Mohawk Valley Region       33100.000000     33533.333333\n",
       "5  North Country Region        4855.000000      8250.000000\n",
       "6  Southern Tier Region       39060.000000     39160.000000\n",
       "7     Western NY Region       48675.000000     48500.000000"
      ]
     },
     "execution_count": 16,
     "metadata": {},
     "output_type": "execute_result"
    }
   ],
   "source": [
    "data_redc_nofib_cable = county_no_fiber.groupby(['REDC Region']).agg({'# Hse Units Cable': 'mean'}).reset_index()\n",
    "data_redc_nofib_dsl = county_no_fiber.groupby(['REDC Region']).agg({'# Hse Units DSL': 'mean'}).reset_index()\n",
    "data_redc_nofib_merge = pd.merge(data_redc_nofib_cable,data_redc_nofib_dsl, on = 'REDC Region', how = \"inner\")\n",
    "data_redc_nofib_merge\n",
    "##average DSL and Cable"
   ]
  },
  {
   "cell_type": "markdown",
   "metadata": {},
   "source": [
    "From the table above, we can infer that the for the 32 counties we found that have no access to fiber internet, they have a good amount of households that have access to cable and DSL. There could be a lot of reasons for them to not move to a cheaper and faster internet. They are either comfortable with their current plan and they do not want to change it or they do not have a demand for faster speed and are happy with their current speed.\n",
    "\n",
    "Now, let's see how population, number of household units and area can help us find any relation with high speed fiber internet. For all the counties we have, we will find the average population, household units and area."
   ]
  },
  {
   "cell_type": "code",
   "execution_count": 17,
   "metadata": {},
   "outputs": [
    {
     "data": {
      "text/html": [
       "<div>\n",
       "<style scoped>\n",
       "    .dataframe tbody tr th:only-of-type {\n",
       "        vertical-align: middle;\n",
       "    }\n",
       "\n",
       "    .dataframe tbody tr th {\n",
       "        vertical-align: top;\n",
       "    }\n",
       "\n",
       "    .dataframe thead th {\n",
       "        text-align: right;\n",
       "    }\n",
       "</style>\n",
       "<table border=\"1\" class=\"dataframe\">\n",
       "  <thead>\n",
       "    <tr style=\"text-align: right;\">\n",
       "      <th></th>\n",
       "      <th>REDC Region</th>\n",
       "      <th>2010 Muni Population</th>\n",
       "      <th>2010 Muni Housing Units</th>\n",
       "      <th>Muni Area (sq mi)</th>\n",
       "    </tr>\n",
       "  </thead>\n",
       "  <tbody>\n",
       "    <tr>\n",
       "      <td>0</td>\n",
       "      <td>Capital Region</td>\n",
       "      <td>1.349009e+05</td>\n",
       "      <td>63202.625000</td>\n",
       "      <td>666.637500</td>\n",
       "    </tr>\n",
       "    <tr>\n",
       "      <td>1</td>\n",
       "      <td>Central NY Region</td>\n",
       "      <td>1.583878e+05</td>\n",
       "      <td>68955.600000</td>\n",
       "      <td>849.920000</td>\n",
       "    </tr>\n",
       "    <tr>\n",
       "      <td>2</td>\n",
       "      <td>Finger Lakes Region</td>\n",
       "      <td>1.352396e+05</td>\n",
       "      <td>58721.111111</td>\n",
       "      <td>750.733333</td>\n",
       "    </tr>\n",
       "    <tr>\n",
       "      <td>3</td>\n",
       "      <td>Long Island Region</td>\n",
       "      <td>1.416441e+06</td>\n",
       "      <td>519165.500000</td>\n",
       "      <td>1409.600000</td>\n",
       "    </tr>\n",
       "    <tr>\n",
       "      <td>4</td>\n",
       "      <td>Mid-Hudson Region</td>\n",
       "      <td>3.272644e+05</td>\n",
       "      <td>128798.428571</td>\n",
       "      <td>680.585714</td>\n",
       "    </tr>\n",
       "    <tr>\n",
       "      <td>5</td>\n",
       "      <td>Mohawk Valley Region</td>\n",
       "      <td>8.335917e+04</td>\n",
       "      <td>39532.333333</td>\n",
       "      <td>882.550000</td>\n",
       "    </tr>\n",
       "    <tr>\n",
       "      <td>6</td>\n",
       "      <td>New York City</td>\n",
       "      <td>1.635027e+06</td>\n",
       "      <td>674212.400000</td>\n",
       "      <td>93.940000</td>\n",
       "    </tr>\n",
       "    <tr>\n",
       "      <td>7</td>\n",
       "      <td>North Country Region</td>\n",
       "      <td>6.188471e+04</td>\n",
       "      <td>31528.857143</td>\n",
       "      <td>1771.328571</td>\n",
       "    </tr>\n",
       "    <tr>\n",
       "      <td>8</td>\n",
       "      <td>Southern Tier Region</td>\n",
       "      <td>8.223862e+04</td>\n",
       "      <td>38383.875000</td>\n",
       "      <td>781.387500</td>\n",
       "    </tr>\n",
       "    <tr>\n",
       "      <td>9</td>\n",
       "      <td>Western NY Region</td>\n",
       "      <td>2.799354e+05</td>\n",
       "      <td>130653.000000</td>\n",
       "      <td>1246.600000</td>\n",
       "    </tr>\n",
       "  </tbody>\n",
       "</table>\n",
       "</div>"
      ],
      "text/plain": [
       "            REDC Region  2010 Muni Population  2010 Muni Housing Units  \\\n",
       "0        Capital Region          1.349009e+05             63202.625000   \n",
       "1     Central NY Region          1.583878e+05             68955.600000   \n",
       "2   Finger Lakes Region          1.352396e+05             58721.111111   \n",
       "3    Long Island Region          1.416441e+06            519165.500000   \n",
       "4     Mid-Hudson Region          3.272644e+05            128798.428571   \n",
       "5  Mohawk Valley Region          8.335917e+04             39532.333333   \n",
       "6         New York City          1.635027e+06            674212.400000   \n",
       "7  North Country Region          6.188471e+04             31528.857143   \n",
       "8  Southern Tier Region          8.223862e+04             38383.875000   \n",
       "9     Western NY Region          2.799354e+05            130653.000000   \n",
       "\n",
       "   Muni Area (sq mi)  \n",
       "0         666.637500  \n",
       "1         849.920000  \n",
       "2         750.733333  \n",
       "3        1409.600000  \n",
       "4         680.585714  \n",
       "5         882.550000  \n",
       "6          93.940000  \n",
       "7        1771.328571  \n",
       "8         781.387500  \n",
       "9        1246.600000  "
      ]
     },
     "execution_count": 17,
     "metadata": {},
     "output_type": "execute_result"
    }
   ],
   "source": [
    "data_aggregate_redc = data_county.groupby(['REDC Region']).agg({'2010 Muni Population': 'mean', '2010 Muni Housing Units': 'mean', 'Muni Area (sq mi)': 'mean'}).reset_index() \n",
    "data_aggregate_redc "
   ]
  },
  {
   "cell_type": "code",
   "execution_count": 18,
   "metadata": {},
   "outputs": [
    {
     "data": {
      "image/png": "[encoded data removed]",
      "text/plain": [
       "<Figure size 720x720 with 1 Axes>"
      ]
     },
     "metadata": {
      "needs_background": "light"
     },
     "output_type": "display_data"
    }
   ],
   "source": [
    "plt.figure(figsize=(10,10))\n",
    "ax = sns.barplot(x=\"2010 Muni Population\", y=\"REDC Region\",data=data_aggregate_redc.sort_values(\"2010 Muni Population\",ascending = False), palette = \"Greens_r\")\n",
    "\n",
    "plt.xlabel('Municipality Population', fontsize=16)\n",
    "plt.ylabel('REDC Region', fontsize=16)\n",
    "plt.title('REDC Regions with Population Plot', fontsize=16)\n",
    "plt.show()"
   ]
  },
  {
   "cell_type": "markdown",
   "metadata": {},
   "source": [
    "From our analysis that we did above, we found that New York City, Long Island Region, Mid-Hudson Region and Western NY Region were the REDC Regions with the maximum amount of households with access to fiber internet. From the above population plot, we can see that these are the regions have the maximum population also. Hence, we can say that, with more population, the demand increases for high speed internet. \n",
    "\n",
    "Next, we will see if housing units has an effect on fiber connections."
   ]
  },
  {
   "cell_type": "code",
   "execution_count": 19,
   "metadata": {},
   "outputs": [
    {
     "data": {
      "image/png": "[encoded data removed]",
      "text/plain": [
       "<Figure size 720x720 with 1 Axes>"
      ]
     },
     "metadata": {
      "needs_background": "light"
     },
     "output_type": "display_data"
    }
   ],
   "source": [
    "plt.figure(figsize=(10,10))\n",
    "ax = sns.barplot(x=\"2010 Muni Housing Units\", y=\"REDC Region\",data=data_aggregate_redc.sort_values(\"2010 Muni Housing Units\",ascending = False),palette=\"Blues_r\")\n",
    "plt.xlabel('Municipality Housing Units', fontsize=16)\n",
    "plt.ylabel('REDC Region', fontsize=16)\n",
    "plt.title('REDC Regions with Housing Unit Plot', fontsize=16)\n",
    "plt.show()"
   ]
  },
  {
   "cell_type": "markdown",
   "metadata": {},
   "source": [
    "The plot above is very similar to the population plot as it gives us a very similar result. Again the same REDC regions(New York City, Long Island Region, Mid-Hudson Region and Western NY Region) have the maximum number of housing units and these were the ones having maximum fiber connections as well. Hence, if housing units increase, the demand forfiber internet increases as well.\n",
    "\n",
    "Next, we will see if muncipality area has an effect on fiber internet connections."
   ]
  },
  {
   "cell_type": "code",
   "execution_count": 20,
   "metadata": {},
   "outputs": [
    {
     "data": {
      "image/png": "[encoded data removed]",
      "text/plain": [
       "<Figure size 720x720 with 1 Axes>"
      ]
     },
     "metadata": {
      "needs_background": "light"
     },
     "output_type": "display_data"
    }
   ],
   "source": [
    "plt.figure(figsize=(10,10))\n",
    "ax = sns.barplot(x=\"Muni Area (sq mi)\", y=\"REDC Region\",data=data_aggregate_redc.sort_values(\"Muni Area (sq mi)\",ascending = False),palette=\"Greys_r\")\n",
    "plt.xlabel('Municipality Area', fontsize=16)\n",
    "plt.ylabel('REDC Region', fontsize=16)\n",
    "plt.title('REDC Regions with Municipality Area Plot', fontsize=16)\n",
    "plt.show()"
   ]
  },
  {
   "cell_type": "markdown",
   "metadata": {},
   "source": [
    "From the above plot, North Country Region has the most area in terms of squared miles whereas New York City has the least area. However, we know that New York City has the maximum population, housing units and fiber internet connections as well. Hence, Municipality area is not a feature through which we can say much about the fiber internet connections. "
   ]
  },
  {
   "cell_type": "markdown",
   "metadata": {},
   "source": [
    "From the above visualizations, we have found that some REDC Regions have households that have acess to fiber internet whereas some REDC Regions have households that are still using cable or DSL internets.\n",
    "\n",
    "Based on the REDC Regions we found, let's see which counties are in those REDC Regions. "
   ]
  },
  {
   "cell_type": "code",
   "execution_count": 21,
   "metadata": {},
   "outputs": [
    {
     "data": {
      "text/html": [
       "<div>\n",
       "<style scoped>\n",
       "    .dataframe tbody tr th:only-of-type {\n",
       "        vertical-align: middle;\n",
       "    }\n",
       "\n",
       "    .dataframe tbody tr th {\n",
       "        vertical-align: top;\n",
       "    }\n",
       "\n",
       "    .dataframe thead th {\n",
       "        text-align: right;\n",
       "    }\n",
       "</style>\n",
       "<table border=\"1\" class=\"dataframe\">\n",
       "  <thead>\n",
       "    <tr style=\"text-align: right;\">\n",
       "      <th></th>\n",
       "      <th>Municipality Type</th>\n",
       "      <th>2010 Muni Population</th>\n",
       "      <th>2010 Muni Housing Units</th>\n",
       "      <th>Muni Area (sq mi)</th>\n",
       "      <th>County</th>\n",
       "      <th>REDC Region</th>\n",
       "      <th># Hse Units Cable</th>\n",
       "      <th># Hse Units DSL</th>\n",
       "      <th># Fiber Providers</th>\n",
       "      <th># Hse Units Fiber</th>\n",
       "    </tr>\n",
       "  </thead>\n",
       "  <tbody>\n",
       "    <tr>\n",
       "      <td>0</td>\n",
       "      <td>County</td>\n",
       "      <td>1385108</td>\n",
       "      <td>511896</td>\n",
       "      <td>57.5</td>\n",
       "      <td>Bronx</td>\n",
       "      <td>New York City</td>\n",
       "      <td>496000</td>\n",
       "      <td>496000</td>\n",
       "      <td>4</td>\n",
       "      <td>322000</td>\n",
       "    </tr>\n",
       "    <tr>\n",
       "      <td>1</td>\n",
       "      <td>County</td>\n",
       "      <td>2504700</td>\n",
       "      <td>1000293</td>\n",
       "      <td>97.1</td>\n",
       "      <td>Kings</td>\n",
       "      <td>New York City</td>\n",
       "      <td>970000</td>\n",
       "      <td>970000</td>\n",
       "      <td>6</td>\n",
       "      <td>505000</td>\n",
       "    </tr>\n",
       "    <tr>\n",
       "      <td>2</td>\n",
       "      <td>County</td>\n",
       "      <td>1585873</td>\n",
       "      <td>847090</td>\n",
       "      <td>33.8</td>\n",
       "      <td>New York</td>\n",
       "      <td>New York City</td>\n",
       "      <td>820000</td>\n",
       "      <td>821000</td>\n",
       "      <td>8</td>\n",
       "      <td>495000</td>\n",
       "    </tr>\n",
       "    <tr>\n",
       "      <td>3</td>\n",
       "      <td>County</td>\n",
       "      <td>2230722</td>\n",
       "      <td>835127</td>\n",
       "      <td>179.0</td>\n",
       "      <td>Queens</td>\n",
       "      <td>New York City</td>\n",
       "      <td>809000</td>\n",
       "      <td>808000</td>\n",
       "      <td>5</td>\n",
       "      <td>576000</td>\n",
       "    </tr>\n",
       "    <tr>\n",
       "      <td>4</td>\n",
       "      <td>County</td>\n",
       "      <td>468730</td>\n",
       "      <td>176656</td>\n",
       "      <td>102.3</td>\n",
       "      <td>Richmond</td>\n",
       "      <td>New York City</td>\n",
       "      <td>171000</td>\n",
       "      <td>171000</td>\n",
       "      <td>3</td>\n",
       "      <td>169000</td>\n",
       "    </tr>\n",
       "  </tbody>\n",
       "</table>\n",
       "</div>"
      ],
      "text/plain": [
       "  Municipality Type  2010 Muni Population  2010 Muni Housing Units  \\\n",
       "0            County               1385108                   511896   \n",
       "1            County               2504700                  1000293   \n",
       "2            County               1585873                   847090   \n",
       "3            County               2230722                   835127   \n",
       "4            County                468730                   176656   \n",
       "\n",
       "   Muni Area (sq mi)    County    REDC Region  # Hse Units Cable  \\\n",
       "0               57.5     Bronx  New York City             496000   \n",
       "1               97.1     Kings  New York City             970000   \n",
       "2               33.8  New York  New York City             820000   \n",
       "3              179.0    Queens  New York City             809000   \n",
       "4              102.3  Richmond  New York City             171000   \n",
       "\n",
       "   # Hse Units DSL  # Fiber Providers  # Hse Units Fiber  \n",
       "0           496000                  4             322000  \n",
       "1           970000                  6             505000  \n",
       "2           821000                  8             495000  \n",
       "3           808000                  5             576000  \n",
       "4           171000                  3             169000  "
      ]
     },
     "execution_count": 21,
     "metadata": {},
     "output_type": "execute_result"
    }
   ],
   "source": [
    "columns_view = ['Municipality Type','2010 Muni Population','2010 Muni Housing Units','Muni Area (sq mi)','County','REDC Region','# Hse Units Cable','# Hse Units DSL','# Fiber Providers','# Hse Units Fiber']           \n",
    "data_nyc = filter_data(data_county,'REDC Region','New York City', True)\n",
    "data_nyc = select_cols(data_nyc,columns_view)\n",
    "data_nyc"
   ]
  },
  {
   "cell_type": "markdown",
   "metadata": {},
   "source": [
    "The above table gives us all the counties of New York City Region namely Bronx, Kings(Brooklyn), New York(Manhattan), Queens and Richmond(Staten Island). These are the counties that are growing in terms of fiber internet speed and companies such as verizon and At&T are establishing their monopoly in. \n",
    "\n",
    "Next, we will look at the second best region where internet providers are doing a good job in terms of moving from DSL, Cable to fiber internet."
   ]
  },
  {
   "cell_type": "code",
   "execution_count": 22,
   "metadata": {},
   "outputs": [
    {
     "data": {
      "text/html": [
       "<div>\n",
       "<style scoped>\n",
       "    .dataframe tbody tr th:only-of-type {\n",
       "        vertical-align: middle;\n",
       "    }\n",
       "\n",
       "    .dataframe tbody tr th {\n",
       "        vertical-align: top;\n",
       "    }\n",
       "\n",
       "    .dataframe thead th {\n",
       "        text-align: right;\n",
       "    }\n",
       "</style>\n",
       "<table border=\"1\" class=\"dataframe\">\n",
       "  <thead>\n",
       "    <tr style=\"text-align: right;\">\n",
       "      <th></th>\n",
       "      <th>Municipality Type</th>\n",
       "      <th>2010 Muni Population</th>\n",
       "      <th>2010 Muni Housing Units</th>\n",
       "      <th>Muni Area (sq mi)</th>\n",
       "      <th>County</th>\n",
       "      <th>REDC Region</th>\n",
       "      <th># Hse Units Cable</th>\n",
       "      <th># Hse Units DSL</th>\n",
       "      <th># Fiber Providers</th>\n",
       "      <th># Hse Units Fiber</th>\n",
       "    </tr>\n",
       "  </thead>\n",
       "  <tbody>\n",
       "    <tr>\n",
       "      <td>0</td>\n",
       "      <td>County</td>\n",
       "      <td>1339532</td>\n",
       "      <td>468346</td>\n",
       "      <td>446.6</td>\n",
       "      <td>Nassau</td>\n",
       "      <td>Long Island Region</td>\n",
       "      <td>454000</td>\n",
       "      <td>451000</td>\n",
       "      <td>5</td>\n",
       "      <td>449000</td>\n",
       "    </tr>\n",
       "    <tr>\n",
       "      <td>1</td>\n",
       "      <td>County</td>\n",
       "      <td>1493350</td>\n",
       "      <td>569985</td>\n",
       "      <td>2372.6</td>\n",
       "      <td>Suffolk</td>\n",
       "      <td>Long Island Region</td>\n",
       "      <td>547000</td>\n",
       "      <td>517000</td>\n",
       "      <td>5</td>\n",
       "      <td>309000</td>\n",
       "    </tr>\n",
       "  </tbody>\n",
       "</table>\n",
       "</div>"
      ],
      "text/plain": [
       "  Municipality Type  2010 Muni Population  2010 Muni Housing Units  \\\n",
       "0            County               1339532                   468346   \n",
       "1            County               1493350                   569985   \n",
       "\n",
       "   Muni Area (sq mi)   County         REDC Region  # Hse Units Cable  \\\n",
       "0              446.6   Nassau  Long Island Region             454000   \n",
       "1             2372.6  Suffolk  Long Island Region             547000   \n",
       "\n",
       "   # Hse Units DSL  # Fiber Providers  # Hse Units Fiber  \n",
       "0           451000                  5             449000  \n",
       "1           517000                  5             309000  "
      ]
     },
     "execution_count": 22,
     "metadata": {},
     "output_type": "execute_result"
    }
   ],
   "source": [
    "data_LI = filter_data(data_county,'REDC Region','Long Island Region', True)\n",
    "data_LI = select_cols(data_LI,columns_view)\n",
    "data_LI "
   ]
  },
  {
   "cell_type": "markdown",
   "metadata": {},
   "source": [
    "From the above table, we get the 2 counties in the Long Island Region. The two counties are Nassau and Suffolk and the long island region is also growing in terms of fiber internet connections."
   ]
  },
  {
   "cell_type": "code",
   "execution_count": 23,
   "metadata": {},
   "outputs": [
    {
     "data": {
      "text/html": [
       "<div>\n",
       "<style scoped>\n",
       "    .dataframe tbody tr th:only-of-type {\n",
       "        vertical-align: middle;\n",
       "    }\n",
       "\n",
       "    .dataframe tbody tr th {\n",
       "        vertical-align: top;\n",
       "    }\n",
       "\n",
       "    .dataframe thead th {\n",
       "        text-align: right;\n",
       "    }\n",
       "</style>\n",
       "<table border=\"1\" class=\"dataframe\">\n",
       "  <thead>\n",
       "    <tr style=\"text-align: right;\">\n",
       "      <th></th>\n",
       "      <th>Municipality Type</th>\n",
       "      <th>2010 Muni Population</th>\n",
       "      <th>2010 Muni Housing Units</th>\n",
       "      <th>Muni Area (sq mi)</th>\n",
       "      <th>County</th>\n",
       "      <th>REDC Region</th>\n",
       "      <th># Hse Units Cable</th>\n",
       "      <th># Hse Units DSL</th>\n",
       "      <th># Fiber Providers</th>\n",
       "      <th># Hse Units Fiber</th>\n",
       "    </tr>\n",
       "  </thead>\n",
       "  <tbody>\n",
       "    <tr>\n",
       "      <td>0</td>\n",
       "      <td>County</td>\n",
       "      <td>297488</td>\n",
       "      <td>118638</td>\n",
       "      <td>824.5</td>\n",
       "      <td>Dutchess</td>\n",
       "      <td>Mid-Hudson Region</td>\n",
       "      <td>115000</td>\n",
       "      <td>104000</td>\n",
       "      <td>5</td>\n",
       "      <td>54800</td>\n",
       "    </tr>\n",
       "    <tr>\n",
       "      <td>1</td>\n",
       "      <td>County</td>\n",
       "      <td>372813</td>\n",
       "      <td>137025</td>\n",
       "      <td>837.7</td>\n",
       "      <td>Orange</td>\n",
       "      <td>Mid-Hudson Region</td>\n",
       "      <td>132000</td>\n",
       "      <td>129000</td>\n",
       "      <td>4</td>\n",
       "      <td>26400</td>\n",
       "    </tr>\n",
       "    <tr>\n",
       "      <td>2</td>\n",
       "      <td>County</td>\n",
       "      <td>99710</td>\n",
       "      <td>38224</td>\n",
       "      <td>246.0</td>\n",
       "      <td>Putnam</td>\n",
       "      <td>Mid-Hudson Region</td>\n",
       "      <td>37000</td>\n",
       "      <td>31100</td>\n",
       "      <td>4</td>\n",
       "      <td>26400</td>\n",
       "    </tr>\n",
       "    <tr>\n",
       "      <td>3</td>\n",
       "      <td>County</td>\n",
       "      <td>311687</td>\n",
       "      <td>104057</td>\n",
       "      <td>199.3</td>\n",
       "      <td>Rockland</td>\n",
       "      <td>Mid-Hudson Region</td>\n",
       "      <td>100000</td>\n",
       "      <td>95000</td>\n",
       "      <td>5</td>\n",
       "      <td>97500</td>\n",
       "    </tr>\n",
       "    <tr>\n",
       "      <td>4</td>\n",
       "      <td>County</td>\n",
       "      <td>77547</td>\n",
       "      <td>49186</td>\n",
       "      <td>996.0</td>\n",
       "      <td>Sullivan</td>\n",
       "      <td>Mid-Hudson Region</td>\n",
       "      <td>45600</td>\n",
       "      <td>35100</td>\n",
       "      <td>2</td>\n",
       "      <td>0</td>\n",
       "    </tr>\n",
       "    <tr>\n",
       "      <td>5</td>\n",
       "      <td>County</td>\n",
       "      <td>182493</td>\n",
       "      <td>83638</td>\n",
       "      <td>1160.6</td>\n",
       "      <td>Ulster</td>\n",
       "      <td>Mid-Hudson Region</td>\n",
       "      <td>79500</td>\n",
       "      <td>71400</td>\n",
       "      <td>5</td>\n",
       "      <td>0</td>\n",
       "    </tr>\n",
       "    <tr>\n",
       "      <td>6</td>\n",
       "      <td>County</td>\n",
       "      <td>949113</td>\n",
       "      <td>370821</td>\n",
       "      <td>500.0</td>\n",
       "      <td>Westchester</td>\n",
       "      <td>Mid-Hudson Region</td>\n",
       "      <td>359000</td>\n",
       "      <td>351000</td>\n",
       "      <td>6</td>\n",
       "      <td>341000</td>\n",
       "    </tr>\n",
       "  </tbody>\n",
       "</table>\n",
       "</div>"
      ],
      "text/plain": [
       "  Municipality Type  2010 Muni Population  2010 Muni Housing Units  \\\n",
       "0            County                297488                   118638   \n",
       "1            County                372813                   137025   \n",
       "2            County                 99710                    38224   \n",
       "3            County                311687                   104057   \n",
       "4            County                 77547                    49186   \n",
       "5            County                182493                    83638   \n",
       "6            County                949113                   370821   \n",
       "\n",
       "   Muni Area (sq mi)       County        REDC Region  # Hse Units Cable  \\\n",
       "0              824.5     Dutchess  Mid-Hudson Region             115000   \n",
       "1              837.7       Orange  Mid-Hudson Region             132000   \n",
       "2              246.0       Putnam  Mid-Hudson Region              37000   \n",
       "3              199.3     Rockland  Mid-Hudson Region             100000   \n",
       "4              996.0     Sullivan  Mid-Hudson Region              45600   \n",
       "5             1160.6       Ulster  Mid-Hudson Region              79500   \n",
       "6              500.0  Westchester  Mid-Hudson Region             359000   \n",
       "\n",
       "   # Hse Units DSL  # Fiber Providers  # Hse Units Fiber  \n",
       "0           104000                  5              54800  \n",
       "1           129000                  4              26400  \n",
       "2            31100                  4              26400  \n",
       "3            95000                  5              97500  \n",
       "4            35100                  2                  0  \n",
       "5            71400                  5                  0  \n",
       "6           351000                  6             341000  "
      ]
     },
     "execution_count": 23,
     "metadata": {},
     "output_type": "execute_result"
    }
   ],
   "source": [
    "data_mh = filter_data(data_county,'REDC Region','Mid-Hudson Region', True)\n",
    "data_mh = select_cols(data_mh,columns_view)\n",
    "data_mh"
   ]
  },
  {
   "cell_type": "markdown",
   "metadata": {},
   "source": [
    "The table above gives us the counties of Mid Hudson Region. We can infer that the Doutchess, Orange, Putnam, Rockland and Wstchester has a lot of households with access to fiber internet whereas as Sullivan and Ulster have 0 households with access to fiber internet. If we look into Sullivan county, the population and housing units are very less as compared to the other counties in Mid Houston Region which could be a reason for no fiber internet connections. Now, coming to ulstet county, the population and housing units are not that low as compared to sulliva. Also, they have 5 fiber providers and no fiber connections is a big question here. It could be due to people not wanting to move as they might not be having demands to move to a higher speed internet connection."
   ]
  },
  {
   "cell_type": "code",
   "execution_count": 24,
   "metadata": {},
   "outputs": [
    {
     "data": {
      "text/html": [
       "<div>\n",
       "<style scoped>\n",
       "    .dataframe tbody tr th:only-of-type {\n",
       "        vertical-align: middle;\n",
       "    }\n",
       "\n",
       "    .dataframe tbody tr th {\n",
       "        vertical-align: top;\n",
       "    }\n",
       "\n",
       "    .dataframe thead th {\n",
       "        text-align: right;\n",
       "    }\n",
       "</style>\n",
       "<table border=\"1\" class=\"dataframe\">\n",
       "  <thead>\n",
       "    <tr style=\"text-align: right;\">\n",
       "      <th></th>\n",
       "      <th>Municipality Type</th>\n",
       "      <th>2010 Muni Population</th>\n",
       "      <th>2010 Muni Housing Units</th>\n",
       "      <th>Muni Area (sq mi)</th>\n",
       "      <th>County</th>\n",
       "      <th>REDC Region</th>\n",
       "      <th># Hse Units Cable</th>\n",
       "      <th># Hse Units DSL</th>\n",
       "      <th># Fiber Providers</th>\n",
       "      <th># Hse Units Fiber</th>\n",
       "    </tr>\n",
       "  </thead>\n",
       "  <tbody>\n",
       "    <tr>\n",
       "      <td>0</td>\n",
       "      <td>County</td>\n",
       "      <td>60079</td>\n",
       "      <td>25589</td>\n",
       "      <td>495.7</td>\n",
       "      <td>Genesee</td>\n",
       "      <td>Finger Lakes Region</td>\n",
       "      <td>23700</td>\n",
       "      <td>21500</td>\n",
       "      <td>3</td>\n",
       "      <td>0</td>\n",
       "    </tr>\n",
       "    <tr>\n",
       "      <td>1</td>\n",
       "      <td>County</td>\n",
       "      <td>65393</td>\n",
       "      <td>27123</td>\n",
       "      <td>640.6</td>\n",
       "      <td>Livingston</td>\n",
       "      <td>Finger Lakes Region</td>\n",
       "      <td>23600</td>\n",
       "      <td>25200</td>\n",
       "      <td>3</td>\n",
       "      <td>0</td>\n",
       "    </tr>\n",
       "    <tr>\n",
       "      <td>2</td>\n",
       "      <td>County</td>\n",
       "      <td>744344</td>\n",
       "      <td>320593</td>\n",
       "      <td>1384.5</td>\n",
       "      <td>Monroe</td>\n",
       "      <td>Finger Lakes Region</td>\n",
       "      <td>310000</td>\n",
       "      <td>308000</td>\n",
       "      <td>4</td>\n",
       "      <td>0</td>\n",
       "    </tr>\n",
       "    <tr>\n",
       "      <td>3</td>\n",
       "      <td>County</td>\n",
       "      <td>107931</td>\n",
       "      <td>48193</td>\n",
       "      <td>662.5</td>\n",
       "      <td>Ontario</td>\n",
       "      <td>Finger Lakes Region</td>\n",
       "      <td>43900</td>\n",
       "      <td>44400</td>\n",
       "      <td>4</td>\n",
       "      <td>0</td>\n",
       "    </tr>\n",
       "    <tr>\n",
       "      <td>4</td>\n",
       "      <td>County</td>\n",
       "      <td>42883</td>\n",
       "      <td>18431</td>\n",
       "      <td>814.2</td>\n",
       "      <td>Orleans</td>\n",
       "      <td>Finger Lakes Region</td>\n",
       "      <td>17400</td>\n",
       "      <td>11800</td>\n",
       "      <td>1</td>\n",
       "      <td>0</td>\n",
       "    </tr>\n",
       "    <tr>\n",
       "      <td>5</td>\n",
       "      <td>County</td>\n",
       "      <td>35251</td>\n",
       "      <td>16043</td>\n",
       "      <td>390.4</td>\n",
       "      <td>Seneca</td>\n",
       "      <td>Finger Lakes Region</td>\n",
       "      <td>12500</td>\n",
       "      <td>13100</td>\n",
       "      <td>3</td>\n",
       "      <td>0</td>\n",
       "    </tr>\n",
       "    <tr>\n",
       "      <td>6</td>\n",
       "      <td>County</td>\n",
       "      <td>93772</td>\n",
       "      <td>41057</td>\n",
       "      <td>1396.2</td>\n",
       "      <td>Wayne</td>\n",
       "      <td>Finger Lakes Region</td>\n",
       "      <td>37700</td>\n",
       "      <td>32400</td>\n",
       "      <td>6</td>\n",
       "      <td>0</td>\n",
       "    </tr>\n",
       "    <tr>\n",
       "      <td>7</td>\n",
       "      <td>County</td>\n",
       "      <td>42155</td>\n",
       "      <td>17970</td>\n",
       "      <td>596.7</td>\n",
       "      <td>Wyoming</td>\n",
       "      <td>Finger Lakes Region</td>\n",
       "      <td>14500</td>\n",
       "      <td>12000</td>\n",
       "      <td>2</td>\n",
       "      <td>0</td>\n",
       "    </tr>\n",
       "    <tr>\n",
       "      <td>8</td>\n",
       "      <td>County</td>\n",
       "      <td>25348</td>\n",
       "      <td>13491</td>\n",
       "      <td>375.8</td>\n",
       "      <td>Yates</td>\n",
       "      <td>Finger Lakes Region</td>\n",
       "      <td>9400</td>\n",
       "      <td>10900</td>\n",
       "      <td>3</td>\n",
       "      <td>0</td>\n",
       "    </tr>\n",
       "  </tbody>\n",
       "</table>\n",
       "</div>"
      ],
      "text/plain": [
       "  Municipality Type  2010 Muni Population  2010 Muni Housing Units  \\\n",
       "0            County                 60079                    25589   \n",
       "1            County                 65393                    27123   \n",
       "2            County                744344                   320593   \n",
       "3            County                107931                    48193   \n",
       "4            County                 42883                    18431   \n",
       "5            County                 35251                    16043   \n",
       "6            County                 93772                    41057   \n",
       "7            County                 42155                    17970   \n",
       "8            County                 25348                    13491   \n",
       "\n",
       "   Muni Area (sq mi)      County          REDC Region  # Hse Units Cable  \\\n",
       "0              495.7     Genesee  Finger Lakes Region              23700   \n",
       "1              640.6  Livingston  Finger Lakes Region              23600   \n",
       "2             1384.5      Monroe  Finger Lakes Region             310000   \n",
       "3              662.5     Ontario  Finger Lakes Region              43900   \n",
       "4              814.2     Orleans  Finger Lakes Region              17400   \n",
       "5              390.4      Seneca  Finger Lakes Region              12500   \n",
       "6             1396.2       Wayne  Finger Lakes Region              37700   \n",
       "7              596.7     Wyoming  Finger Lakes Region              14500   \n",
       "8              375.8       Yates  Finger Lakes Region               9400   \n",
       "\n",
       "   # Hse Units DSL  # Fiber Providers  # Hse Units Fiber  \n",
       "0            21500                  3                  0  \n",
       "1            25200                  3                  0  \n",
       "2           308000                  4                  0  \n",
       "3            44400                  4                  0  \n",
       "4            11800                  1                  0  \n",
       "5            13100                  3                  0  \n",
       "6            32400                  6                  0  \n",
       "7            12000                  2                  0  \n",
       "8            10900                  3                  0  "
      ]
     },
     "execution_count": 24,
     "metadata": {},
     "output_type": "execute_result"
    }
   ],
   "source": [
    "data_fl = filter_data(data_county,'REDC Region','Finger Lakes Region', True)\n",
    "data_fl = select_cols(data_fl,columns_view)\n",
    "data_fl"
   ]
  },
  {
   "cell_type": "markdown",
   "metadata": {},
   "source": [
    "The table above gives us all the counties in Finger Lankes Region and we can infer that they have no households with access to fiber internet. It is definitely not because of number of fiber providers. If we look in counties such as Wyoming, Monroe and Ontorio, they have atleast 4 Fiber providers but people are still not using fiber internet. It could be due to people's neglegence or the advertisement stratergies were not upto the mark in 2010."
   ]
  },
  {
   "cell_type": "code",
   "execution_count": 25,
   "metadata": {},
   "outputs": [
    {
     "data": {
      "text/html": [
       "<div>\n",
       "<style scoped>\n",
       "    .dataframe tbody tr th:only-of-type {\n",
       "        vertical-align: middle;\n",
       "    }\n",
       "\n",
       "    .dataframe tbody tr th {\n",
       "        vertical-align: top;\n",
       "    }\n",
       "\n",
       "    .dataframe thead th {\n",
       "        text-align: right;\n",
       "    }\n",
       "</style>\n",
       "<table border=\"1\" class=\"dataframe\">\n",
       "  <thead>\n",
       "    <tr style=\"text-align: right;\">\n",
       "      <th></th>\n",
       "      <th>Municipality Type</th>\n",
       "      <th>2010 Muni Population</th>\n",
       "      <th>2010 Muni Housing Units</th>\n",
       "      <th>Muni Area (sq mi)</th>\n",
       "      <th>County</th>\n",
       "      <th>REDC Region</th>\n",
       "      <th># Hse Units Cable</th>\n",
       "      <th># Hse Units DSL</th>\n",
       "      <th># Fiber Providers</th>\n",
       "      <th># Hse Units Fiber</th>\n",
       "    </tr>\n",
       "  </thead>\n",
       "  <tbody>\n",
       "    <tr>\n",
       "      <td>0</td>\n",
       "      <td>County</td>\n",
       "      <td>55531</td>\n",
       "      <td>28562</td>\n",
       "      <td>532.6</td>\n",
       "      <td>Fulton</td>\n",
       "      <td>Mohawk Valley Region</td>\n",
       "      <td>25100</td>\n",
       "      <td>26300</td>\n",
       "      <td>1</td>\n",
       "      <td>0</td>\n",
       "    </tr>\n",
       "    <tr>\n",
       "      <td>1</td>\n",
       "      <td>County</td>\n",
       "      <td>64519</td>\n",
       "      <td>33381</td>\n",
       "      <td>1456.3</td>\n",
       "      <td>Herkimer</td>\n",
       "      <td>Mohawk Valley Region</td>\n",
       "      <td>26300</td>\n",
       "      <td>28100</td>\n",
       "      <td>2</td>\n",
       "      <td>0</td>\n",
       "    </tr>\n",
       "    <tr>\n",
       "      <td>2</td>\n",
       "      <td>County</td>\n",
       "      <td>50219</td>\n",
       "      <td>23063</td>\n",
       "      <td>410.0</td>\n",
       "      <td>Montgomery</td>\n",
       "      <td>Mohawk Valley Region</td>\n",
       "      <td>18900</td>\n",
       "      <td>21400</td>\n",
       "      <td>1</td>\n",
       "      <td>0</td>\n",
       "    </tr>\n",
       "    <tr>\n",
       "      <td>3</td>\n",
       "      <td>County</td>\n",
       "      <td>234878</td>\n",
       "      <td>104180</td>\n",
       "      <td>1256.5</td>\n",
       "      <td>Oneida</td>\n",
       "      <td>Mohawk Valley Region</td>\n",
       "      <td>95800</td>\n",
       "      <td>94400</td>\n",
       "      <td>3</td>\n",
       "      <td>0</td>\n",
       "    </tr>\n",
       "    <tr>\n",
       "      <td>4</td>\n",
       "      <td>County</td>\n",
       "      <td>62259</td>\n",
       "      <td>30777</td>\n",
       "      <td>1014.1</td>\n",
       "      <td>Otsego</td>\n",
       "      <td>Mohawk Valley Region</td>\n",
       "      <td>22500</td>\n",
       "      <td>20100</td>\n",
       "      <td>1</td>\n",
       "      <td>0</td>\n",
       "    </tr>\n",
       "    <tr>\n",
       "      <td>5</td>\n",
       "      <td>County</td>\n",
       "      <td>32749</td>\n",
       "      <td>17231</td>\n",
       "      <td>625.8</td>\n",
       "      <td>Schoharie</td>\n",
       "      <td>Mohawk Valley Region</td>\n",
       "      <td>10000</td>\n",
       "      <td>10900</td>\n",
       "      <td>2</td>\n",
       "      <td>0</td>\n",
       "    </tr>\n",
       "  </tbody>\n",
       "</table>\n",
       "</div>"
      ],
      "text/plain": [
       "  Municipality Type  2010 Muni Population  2010 Muni Housing Units  \\\n",
       "0            County                 55531                    28562   \n",
       "1            County                 64519                    33381   \n",
       "2            County                 50219                    23063   \n",
       "3            County                234878                   104180   \n",
       "4            County                 62259                    30777   \n",
       "5            County                 32749                    17231   \n",
       "\n",
       "   Muni Area (sq mi)      County           REDC Region  # Hse Units Cable  \\\n",
       "0              532.6      Fulton  Mohawk Valley Region              25100   \n",
       "1             1456.3    Herkimer  Mohawk Valley Region              26300   \n",
       "2              410.0  Montgomery  Mohawk Valley Region              18900   \n",
       "3             1256.5      Oneida  Mohawk Valley Region              95800   \n",
       "4             1014.1      Otsego  Mohawk Valley Region              22500   \n",
       "5              625.8   Schoharie  Mohawk Valley Region              10000   \n",
       "\n",
       "   # Hse Units DSL  # Fiber Providers  # Hse Units Fiber  \n",
       "0            26300                  1                  0  \n",
       "1            28100                  2                  0  \n",
       "2            21400                  1                  0  \n",
       "3            94400                  3                  0  \n",
       "4            20100                  1                  0  \n",
       "5            10900                  2                  0  "
      ]
     },
     "execution_count": 25,
     "metadata": {},
     "output_type": "execute_result"
    }
   ],
   "source": [
    "data_mv = filter_data(data_county,'REDC Region','Mohawk Valley Region', True)\n",
    "data_mv = select_cols(data_mv,columns_view)\n",
    "data_mv"
   ]
  },
  {
   "cell_type": "markdown",
   "metadata": {},
   "source": [
    "The table above gives us the counties of Mohawk Valley Region. Again, these are the counties with no households with high speed fiber internet. It could be due to people not wanting to move from DSL or Cable internet or the advertisement stratergies were not good enough in 2010."
   ]
  },
  {
   "cell_type": "markdown",
   "metadata": {},
   "source": [
    "**Testing Hypotheses**"
   ]
  },
  {
   "cell_type": "markdown",
   "metadata": {},
   "source": [
    "One-tailed Independent t-test"
   ]
  },
  {
   "cell_type": "code",
   "execution_count": 26,
   "metadata": {},
   "outputs": [
    {
     "data": {
      "text/html": [
       "<div>\n",
       "<style scoped>\n",
       "    .dataframe tbody tr th:only-of-type {\n",
       "        vertical-align: middle;\n",
       "    }\n",
       "\n",
       "    .dataframe tbody tr th {\n",
       "        vertical-align: top;\n",
       "    }\n",
       "\n",
       "    .dataframe thead th {\n",
       "        text-align: right;\n",
       "    }\n",
       "</style>\n",
       "<table border=\"1\" class=\"dataframe\">\n",
       "  <thead>\n",
       "    <tr style=\"text-align: right;\">\n",
       "      <th></th>\n",
       "      <th>2010 Muni Population</th>\n",
       "      <th>2010 Muni Housing Units</th>\n",
       "      <th>Muni Area (sq mi)</th>\n",
       "      <th># Cable Providers</th>\n",
       "      <th># Hse Units Cable</th>\n",
       "      <th># of DSL Providers</th>\n",
       "      <th># Hse Units DSL</th>\n",
       "      <th># Fiber Providers</th>\n",
       "      <th># Hse Units Fiber</th>\n",
       "    </tr>\n",
       "  </thead>\n",
       "  <tbody>\n",
       "    <tr>\n",
       "      <td>count</td>\n",
       "      <td>6.200000e+01</td>\n",
       "      <td>6.200000e+01</td>\n",
       "      <td>62.000000</td>\n",
       "      <td>62.000000</td>\n",
       "      <td>62.000000</td>\n",
       "      <td>62.000000</td>\n",
       "      <td>62.000000</td>\n",
       "      <td>62.000000</td>\n",
       "      <td>62.000000</td>\n",
       "    </tr>\n",
       "    <tr>\n",
       "      <td>mean</td>\n",
       "      <td>3.125500e+05</td>\n",
       "      <td>1.307759e+05</td>\n",
       "      <td>880.177419</td>\n",
       "      <td>1.806452</td>\n",
       "      <td>122645.322581</td>\n",
       "      <td>3.080645</td>\n",
       "      <td>119838.709677</td>\n",
       "      <td>3.822581</td>\n",
       "      <td>61601.451613</td>\n",
       "    </tr>\n",
       "    <tr>\n",
       "      <td>std</td>\n",
       "      <td>5.323563e+05</td>\n",
       "      <td>2.148547e+05</td>\n",
       "      <td>567.564935</td>\n",
       "      <td>0.955377</td>\n",
       "      <td>209591.382892</td>\n",
       "      <td>1.309466</td>\n",
       "      <td>207611.778587</td>\n",
       "      <td>1.971304</td>\n",
       "      <td>140471.140538</td>\n",
       "    </tr>\n",
       "    <tr>\n",
       "      <td>min</td>\n",
       "      <td>4.836000e+03</td>\n",
       "      <td>8.694000e+03</td>\n",
       "      <td>33.800000</td>\n",
       "      <td>1.000000</td>\n",
       "      <td>710.000000</td>\n",
       "      <td>1.000000</td>\n",
       "      <td>6500.000000</td>\n",
       "      <td>1.000000</td>\n",
       "      <td>0.000000</td>\n",
       "    </tr>\n",
       "    <tr>\n",
       "      <td>25%</td>\n",
       "      <td>5.124350e+04</td>\n",
       "      <td>2.638575e+04</td>\n",
       "      <td>496.775000</td>\n",
       "      <td>1.000000</td>\n",
       "      <td>19425.000000</td>\n",
       "      <td>2.000000</td>\n",
       "      <td>21425.000000</td>\n",
       "      <td>2.000000</td>\n",
       "      <td>0.000000</td>\n",
       "    </tr>\n",
       "    <tr>\n",
       "      <td>50%</td>\n",
       "      <td>9.130100e+04</td>\n",
       "      <td>4.108400e+04</td>\n",
       "      <td>809.650000</td>\n",
       "      <td>1.500000</td>\n",
       "      <td>36850.000000</td>\n",
       "      <td>3.000000</td>\n",
       "      <td>33500.000000</td>\n",
       "      <td>4.000000</td>\n",
       "      <td>0.000000</td>\n",
       "    </tr>\n",
       "    <tr>\n",
       "      <td>75%</td>\n",
       "      <td>2.310602e+05</td>\n",
       "      <td>1.028228e+05</td>\n",
       "      <td>1247.900000</td>\n",
       "      <td>2.000000</td>\n",
       "      <td>95675.000000</td>\n",
       "      <td>4.000000</td>\n",
       "      <td>93800.000000</td>\n",
       "      <td>5.000000</td>\n",
       "      <td>23925.000000</td>\n",
       "    </tr>\n",
       "    <tr>\n",
       "      <td>max</td>\n",
       "      <td>2.504700e+06</td>\n",
       "      <td>1.000293e+06</td>\n",
       "      <td>2818.800000</td>\n",
       "      <td>4.000000</td>\n",
       "      <td>970000.000000</td>\n",
       "      <td>7.000000</td>\n",
       "      <td>970000.000000</td>\n",
       "      <td>9.000000</td>\n",
       "      <td>576000.000000</td>\n",
       "    </tr>\n",
       "  </tbody>\n",
       "</table>\n",
       "</div>"
      ],
      "text/plain": [
       "       2010 Muni Population  2010 Muni Housing Units  Muni Area (sq mi)  \\\n",
       "count          6.200000e+01             6.200000e+01          62.000000   \n",
       "mean           3.125500e+05             1.307759e+05         880.177419   \n",
       "std            5.323563e+05             2.148547e+05         567.564935   \n",
       "min            4.836000e+03             8.694000e+03          33.800000   \n",
       "25%            5.124350e+04             2.638575e+04         496.775000   \n",
       "50%            9.130100e+04             4.108400e+04         809.650000   \n",
       "75%            2.310602e+05             1.028228e+05        1247.900000   \n",
       "max            2.504700e+06             1.000293e+06        2818.800000   \n",
       "\n",
       "       # Cable Providers  # Hse Units Cable  # of DSL Providers  \\\n",
       "count          62.000000          62.000000           62.000000   \n",
       "mean            1.806452      122645.322581            3.080645   \n",
       "std             0.955377      209591.382892            1.309466   \n",
       "min             1.000000         710.000000            1.000000   \n",
       "25%             1.000000       19425.000000            2.000000   \n",
       "50%             1.500000       36850.000000            3.000000   \n",
       "75%             2.000000       95675.000000            4.000000   \n",
       "max             4.000000      970000.000000            7.000000   \n",
       "\n",
       "       # Hse Units DSL  # Fiber Providers  # Hse Units Fiber  \n",
       "count        62.000000          62.000000          62.000000  \n",
       "mean     119838.709677           3.822581       61601.451613  \n",
       "std      207611.778587           1.971304      140471.140538  \n",
       "min        6500.000000           1.000000           0.000000  \n",
       "25%       21425.000000           2.000000           0.000000  \n",
       "50%       33500.000000           4.000000           0.000000  \n",
       "75%       93800.000000           5.000000       23925.000000  \n",
       "max      970000.000000           9.000000      576000.000000  "
      ]
     },
     "execution_count": 26,
     "metadata": {},
     "output_type": "execute_result"
    }
   ],
   "source": [
    "data_county.describe()"
   ]
  },
  {
   "cell_type": "markdown",
   "metadata": {},
   "source": [
    "The above analysis shows that despite the increase in the number of Fiber Internet providers, there were household units in 32 counties that had no fiber internet service at all. The summary statistics show that there were 61602 approx. mean number of households with fiber internet services, whereas there were 122645 mean number of housing units with Cable and 119839 mean number of households with DSL. However, considering faster internet services provided by Fiber providers, at the price of cable and DSL services, it makes sense to have a higher subscription for Fiber. We can test our claim using a one-tailed independent t-test to ascertain if the number of fiber housing units were significantly higher than DSL housing units. Similarly, we perform a t-test to check the significance of difference between the number of Cable housing units and Fiber housing units."
   ]
  },
  {
   "cell_type": "markdown",
   "metadata": {},
   "source": [
    "Formulation of Hypothesis"
   ]
  },
  {
   "cell_type": "markdown",
   "metadata": {},
   "source": [
    "H0: µ1 ≤ µ2 <br>\n",
    "Ha: µ1 >  µ2 (claim) <br> \n",
    "; where µ1 = Mean number of housing units with Fiber <br>\n",
    "        µ2 = Mean number of housing units with DSL"
   ]
  },
  {
   "cell_type": "markdown",
   "metadata": {},
   "source": [
    "**Null Hypothesis:** The number of housing units with fiber providers is less than equal to the number of housing units with DSL providers <br>\n",
    "**Alternative Hypothesis:(claim)** The number of housing units with fiber providers is greater than the number of housing units with DSL providers    "
   ]
  },
  {
   "cell_type": "code",
   "execution_count": 27,
   "metadata": {},
   "outputs": [
    {
     "data": {
      "text/plain": [
       "(-1.8293494466422549, 0.964936306700361, 107.17395697717244)"
      ]
     },
     "execution_count": 27,
     "metadata": {},
     "output_type": "execute_result"
    }
   ],
   "source": [
    "weightstats.ttest_ind(x1=data_county['# Hse Units Fiber'], x2=data_county['# Hse Units DSL'], alternative='larger', usevar=\"unequal\")"
   ]
  },
  {
   "cell_type": "markdown",
   "metadata": {},
   "source": [
    "\n",
    "Interpretation t-test statistic = -1.829 \n",
    "p-value = 0.965 \n",
    "Degree of freedom = 107 (round-down) \n",
    "As the p-value 0.965 > 0.1, 0.05, 0.01, we accept the Null Hypothesis which states that the number of housing units with Fiber providers is less than or equal to the number of housing units with DSL providers. Thus, our result is significant at 0.1, 0.05 and 0.01 level of significance. "
   ]
  },
  {
   "cell_type": "markdown",
   "metadata": {},
   "source": [
    "\n",
    "H0: µ1 ≤ µ2 \n",
    "Ha: µ1 > µ2 (claim) \n",
    "; where µ1 = Mean number of housing units with Fiber \n",
    "µ2 = Mean number of housing units with Cable"
   ]
  },
  {
   "cell_type": "code",
   "execution_count": 28,
   "metadata": {},
   "outputs": [
    {
     "data": {
      "text/plain": [
       "(-1.9050318576257248, 0.9702646547326533, 106.60013770210558)"
      ]
     },
     "execution_count": 28,
     "metadata": {},
     "output_type": "execute_result"
    }
   ],
   "source": [
    "weightstats.ttest_ind(x1=data_county['# Hse Units Fiber'], x2=data_county['# Hse Units Cable'], alternative='larger', usevar=\"unequal\")"
   ]
  },
  {
   "cell_type": "markdown",
   "metadata": {},
   "source": [
    "\n",
    "Interpretation t-test statistic = -1.91 \n",
    "p-value = 0.97 \n",
    "Degree of freedom = 106 (round-down) \n",
    "As the p-value 0.97 > 0.1, 0.05, 0.01, we accept the Null Hypothesis which states that the number of housing units with Fiber providers is less than or equal to the number of housing units with cable providers. Thus, our result is significant at 0.1, 0.05 and 0.01 level of significance. "
   ]
  },
  {
   "cell_type": "markdown",
   "metadata": {},
   "source": [
    "As Fiber Internet service providers such as AT&T and Verizon captured the Internet market in the state of New York, it seems logical that the number of fiber internet service providers were greater than DSL and Cable providers. The summary statistic also shows that there were 3.8 number of fiber internet providers, on an average, in the state of New York which is higher than 3.08 average number of DSL and 1.81 average number of cable providers. However, we must test if our claim is significant or not."
   ]
  },
  {
   "cell_type": "markdown",
   "metadata": {},
   "source": [
    "H0: µ1 ≤ µ2 \n",
    "Ha: µ1 > µ2 (claim) \n",
    "; where µ1 = Mean number of Fiber providers \n",
    "µ2 = Mean number of DSL providers"
   ]
  },
  {
   "cell_type": "markdown",
   "metadata": {},
   "source": [
    "\n",
    "Null Hypothesis: The number of fiber providers is less than equal to the number o DSL providers \n",
    "Alternative Hypothesis:(claim) The number fiber providers is greater than the number DSL providers "
   ]
  },
  {
   "cell_type": "code",
   "execution_count": 29,
   "metadata": {},
   "outputs": [
    {
     "data": {
      "text/plain": [
       "(2.468534875602321, 0.007582056112676577, 106.05913018437622)"
      ]
     },
     "execution_count": 29,
     "metadata": {},
     "output_type": "execute_result"
    }
   ],
   "source": [
    "weightstats.ttest_ind(x1=data_county['# Fiber Providers'], x2=data_county['# of DSL Providers'], alternative='larger', usevar=\"unequal\")"
   ]
  },
  {
   "cell_type": "markdown",
   "metadata": {},
   "source": [
    "Interpretation t-test statistic = 2.47 \n",
    "p-value = 0.0076 \n",
    "Degree of freedom = 106 (round-down) \n",
    "As the p-value 0.007 < 0.1, 0.05, 0.01, we reject the Null Hypothesis which states that the number Fiber providers is less than or equal to the number of DSL providers. Thus, our result is significant at 0.1, 0.05 and 0.01 level of significance. Hence, the number of fiber providers in the state of New York are significantly higher than the number of DSL providers. \n",
    "\n",
    "H0: µ1 ≤ µ2 \n",
    "Ha: µ1 > µ2 (claim) \n",
    "; where µ1 = Mean number of Fiber providers \n",
    "µ2 = Mean number of Cable providers\n",
    "\n",
    "Null Hypothesis: The number of fiber providers is less than equal to the number of cable providers \n",
    "Alternative Hypothesis:(claim) The number fiber providers is greater than the number cable providers "
   ]
  },
  {
   "cell_type": "code",
   "execution_count": 30,
   "metadata": {},
   "outputs": [
    {
     "data": {
      "text/plain": [
       "(7.246838454456601, 7.713741072617268e-11, 88.15691739690735)"
      ]
     },
     "execution_count": 30,
     "metadata": {},
     "output_type": "execute_result"
    }
   ],
   "source": [
    "weightstats.ttest_ind(x1=data_county['# Fiber Providers'], x2=data_county['# Cable Providers'], alternative='larger', usevar=\"unequal\")"
   ]
  },
  {
   "cell_type": "markdown",
   "metadata": {},
   "source": [
    "**Interpretation**\n",
    "t-test statistic = 7.25 \n",
    "p-value = 0.0076 \n",
    "Degree of freedom = 106 (round-down) \n",
    "As the p-value 7.713741072617268e-11 < 0.1, 0.05, 0.01, we reject the Null Hypothesis which states that the number of Fiber providers is less than or equal to the number cable providers. Thus, our result is significant at 0.1, 0.05 and 0.01 level of significance. Hence, the number of fiber providers in the state of New York are significantly higher than the number of cable providers. "
   ]
  },
  {
   "cell_type": "markdown",
   "metadata": {},
   "source": [
    "## 1.5 Predictive Analytics"
   ]
  },
  {
   "cell_type": "markdown",
   "metadata": {},
   "source": [
    "Based on the relationships explored in the EDA section, we can predict the number of housing units with fiber providers using 2010 Municipal Housing Units, 2010 Municipal Population, Municipal Area (sq mi), Number of Cable Providers, Number of housing units with cable, Number of DSL Providers and Number of housing units with DSL providers."
   ]
  },
  {
   "cell_type": "code",
   "execution_count": 31,
   "metadata": {},
   "outputs": [],
   "source": [
    "train, test = train_test_split(data_county, test_size=0.2)"
   ]
  },
  {
   "cell_type": "code",
   "execution_count": 32,
   "metadata": {},
   "outputs": [],
   "source": [
    "#Performing the Multiple Linear Regression\n",
    "X = data_county[['2010 Muni Housing Units','2010 Muni Population','Muni Area (sq mi)','# Cable Providers','# Hse Units Cable','# of DSL Providers','# Hse Units DSL']] # here we have 7 predictor variables for multiple regression. \n",
    "Y = data_county['# Hse Units Fiber']"
   ]
  },
  {
   "cell_type": "code",
   "execution_count": 33,
   "metadata": {},
   "outputs": [],
   "source": [
    "# splitting the dataframe into training and testing sets:\n",
    "X_train, X_test, y_train, y_test = train_test_split(X, Y, test_size = 0.2, random_state=9)"
   ]
  },
  {
   "cell_type": "code",
   "execution_count": 34,
   "metadata": {},
   "outputs": [
    {
     "data": {
      "text/html": [
       "<div>\n",
       "<style scoped>\n",
       "    .dataframe tbody tr th:only-of-type {\n",
       "        vertical-align: middle;\n",
       "    }\n",
       "\n",
       "    .dataframe tbody tr th {\n",
       "        vertical-align: top;\n",
       "    }\n",
       "\n",
       "    .dataframe thead th {\n",
       "        text-align: right;\n",
       "    }\n",
       "</style>\n",
       "<table border=\"1\" class=\"dataframe\">\n",
       "  <thead>\n",
       "    <tr style=\"text-align: right;\">\n",
       "      <th></th>\n",
       "      <th>Actual</th>\n",
       "      <th>Predicted</th>\n",
       "    </tr>\n",
       "  </thead>\n",
       "  <tbody>\n",
       "    <tr>\n",
       "      <td>34</td>\n",
       "      <td>0</td>\n",
       "      <td>6490.789751</td>\n",
       "    </tr>\n",
       "    <tr>\n",
       "      <td>14</td>\n",
       "      <td>169000</td>\n",
       "      <td>220467.206538</td>\n",
       "    </tr>\n",
       "    <tr>\n",
       "      <td>6</td>\n",
       "      <td>0</td>\n",
       "      <td>-6402.122882</td>\n",
       "    </tr>\n",
       "    <tr>\n",
       "      <td>7</td>\n",
       "      <td>0</td>\n",
       "      <td>17751.251625</td>\n",
       "    </tr>\n",
       "    <tr>\n",
       "      <td>36</td>\n",
       "      <td>0</td>\n",
       "      <td>-13001.938819</td>\n",
       "    </tr>\n",
       "    <tr>\n",
       "      <td>2</td>\n",
       "      <td>322000</td>\n",
       "      <td>384217.182026</td>\n",
       "    </tr>\n",
       "    <tr>\n",
       "      <td>43</td>\n",
       "      <td>97500</td>\n",
       "      <td>75699.910703</td>\n",
       "    </tr>\n",
       "    <tr>\n",
       "      <td>37</td>\n",
       "      <td>0</td>\n",
       "      <td>-8692.957932</td>\n",
       "    </tr>\n",
       "    <tr>\n",
       "      <td>23</td>\n",
       "      <td>505000</td>\n",
       "      <td>687439.921931</td>\n",
       "    </tr>\n",
       "    <tr>\n",
       "      <td>48</td>\n",
       "      <td>0</td>\n",
       "      <td>-3719.725109</td>\n",
       "    </tr>\n",
       "    <tr>\n",
       "      <td>31</td>\n",
       "      <td>0</td>\n",
       "      <td>15576.881222</td>\n",
       "    </tr>\n",
       "    <tr>\n",
       "      <td>20</td>\n",
       "      <td>0</td>\n",
       "      <td>-49032.229582</td>\n",
       "    </tr>\n",
       "    <tr>\n",
       "      <td>45</td>\n",
       "      <td>33300</td>\n",
       "      <td>31436.465096</td>\n",
       "    </tr>\n",
       "  </tbody>\n",
       "</table>\n",
       "</div>"
      ],
      "text/plain": [
       "    Actual      Predicted\n",
       "34       0    6490.789751\n",
       "14  169000  220467.206538\n",
       "6        0   -6402.122882\n",
       "7        0   17751.251625\n",
       "36       0  -13001.938819\n",
       "2   322000  384217.182026\n",
       "43   97500   75699.910703\n",
       "37       0   -8692.957932\n",
       "23  505000  687439.921931\n",
       "48       0   -3719.725109\n",
       "31       0   15576.881222\n",
       "20       0  -49032.229582\n",
       "45   33300   31436.465096"
      ]
     },
     "execution_count": 34,
     "metadata": {},
     "output_type": "execute_result"
    }
   ],
   "source": [
    "df_pred = LinearRegressionM(X_train, X_test, y_train, y_test) ##custom function created for Linear Regression\n",
    "df_pred"
   ]
  },
  {
   "cell_type": "code",
   "execution_count": 35,
   "metadata": {},
   "outputs": [
    {
     "name": "stdout",
     "output_type": "stream",
     "text": [
      "Root Mean Squared Error: 57903.34809838661\n",
      "R Squared value: 0.8548173963486002\n"
     ]
    }
   ],
   "source": [
    "print('Root Mean Squared Error:', np.sqrt(metrics.mean_squared_error(y_test, df_pred['Predicted'])))\n",
    "print('R Squared value:', metrics.r2_score(y_test, df_pred['Predicted']))"
   ]
  },
  {
   "cell_type": "markdown",
   "metadata": {},
   "source": [
    "RMSE of 57903.35 indicates that the average distance between the observed and the predicted values is 57903.35 or on average, the observed number of housing units with fiber internet lie 57903.35 away from the predicted housing units with fiber internet."
   ]
  },
  {
   "cell_type": "markdown",
   "metadata": {},
   "source": [
    "R-Squared value of 0.85 indicates that a 85 % variation in our dependent variable, Number of housing units with fiber internet, is explained using our predictor variables (independent variables)."
   ]
  },
  {
   "cell_type": "markdown",
   "metadata": {},
   "source": [
    "# Conclusion"
   ]
  },
  {
   "cell_type": "markdown",
   "metadata": {},
   "source": [
    "Through this data, based on our analysis of Fiber Internet services in the state of New York, we found that REDC Regions such as New York City and Long Island Region were having the maximum amount housing units with access to fiber internet in 2010. Some REDC Regions such as Central NY Region, Western NY Region and Mid-Hudson NY region had some counties that did not have a single housing unit with access to fiber internet whereas as some counties had housing units with access to fiber internet. However, some REDC regions such as finger lakes and Mohawk Valley did not have a single county with housing units having access to fiber internet. We further performered a one-tailed T test for testing the claim if the introduction of fiber internet led to a more number of housing units with fiber internet as compared to cable and DSL internet access. We found that there was no significance of our claim and hence, the number of housing units fiber units provider is less than equal to housing units with Cable and DSL. Similarly, we performed another one-tailed T test to test the claim if the average number of fiber internet providers were greater than the average number of DSL and cable providers. We found that the number of fiber internet providers were significantly greater than cable and dsl internet providers. This statistical testing confirms with our Visualizations and Analysis. Finally, we predicted the number of housing units with access to fiber internet using linear regressiona which gave us a R-Squared value of 0.85 which indicates that a 85 % variation in our dependent variable, Number of housing units with fiber internet, is explained using our predictor variables (independent variables). The reason why the number of housing units with fiber internet is lower in few REDC regions or counties is because of people's negligence or unwillingness to shift from their tradition internet services to faster internet services like a fiber internet. It is important to note that there are many fiber service providers but maybe they are not advertising well which is why people are unaware of fiber internet service."
   ]
  }
 ],
 "metadata": {
  "kernelspec": {
   "display_name": "Python 3",
   "language": "python",
   "name": "python3"
  },
  "language_info": {
   "codemirror_mode": {
    "name": "ipython",
    "version": 3
   },
   "file_extension": ".py",
   "mimetype": "text/x-python",
   "name": "python",
   "nbconvert_exporter": "python",
   "pygments_lexer": "ipython3",
   "version": "3.7.3"
  }
 },
 "nbformat": 4,
 "nbformat_minor": 2
}
